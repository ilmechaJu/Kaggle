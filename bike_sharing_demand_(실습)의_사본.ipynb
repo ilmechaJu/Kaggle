{
  "nbformat": 4,
  "nbformat_minor": 0,
  "metadata": {
    "kernelspec": {
      "display_name": "Python 3",
      "language": "python",
      "name": "python3"
    },
    "language_info": {
      "codemirror_mode": {
        "name": "ipython",
        "version": 3
      },
      "file_extension": ".py",
      "mimetype": "text/x-python",
      "name": "python",
      "nbconvert_exporter": "python",
      "pygments_lexer": "ipython3",
      "version": "3.6.9"
    },
    "colab": {
      "name": "bike-sharing-demand (실습)의 사본",
      "provenance": [],
      "collapsed_sections": [
        "9N7EVx6FnD_S",
        "peUH4mZLnD_T",
        "WzJCq-tBnD_a",
        "cNAHkfUlnD_b",
        "vSQnCzO4nD_b",
        "3WHd9G0fnD_c",
        "cRS5GSn-nD_c",
        "I7USsJlpnD_d",
        "So4Zo4SXnD_e",
        "bBNRhZVlnD_f",
        "GtQXpneDnD_h",
        "zekJE_7CnD_h",
        "wiWjxrCRnD_i",
        "nyzaGp6JnD_i",
        "sY9OYa7GnD_j",
        "ohd1Sse9nD_j",
        "MY7IeTtenD_m",
        "d7qP0z3LnD_o"
      ],
      "include_colab_link": true
    }
  },
  "cells": [
    {
      "cell_type": "markdown",
      "metadata": {
        "id": "view-in-github",
        "colab_type": "text"
      },
      "source": [
        "<a href=\"https://colab.research.google.com/github/ilmechaJu/Kaggle/blob/main/bike_sharing_demand_(%EC%8B%A4%EC%8A%B5)%EC%9D%98_%EC%82%AC%EB%B3%B8.ipynb\" target=\"_parent\"><img src=\"https://colab.research.google.com/assets/colab-badge.svg\" alt=\"Open In Colab\"/></a>"
      ]
    },
    {
      "cell_type": "markdown",
      "metadata": {
        "id": "1mt5dUL_nD_N"
      },
      "source": [
        "# Bike Sharing Demand\n",
        "\n",
        "## 데이터분석과 시각화, 머신러닝 알고리즘으로 시간당 자전거 대여량을 예측하기\n",
        "\n",
        "이번 캐글 경진대회는 시간당 자전거 대여량을 예측하는 [Bike Sharing Demand](https://www.kaggle.com/c/bike-sharing-demand) 입니다. 워싱턴 D.C 소재의 자전거 대여 스타트업 [Capital Bikeshare](https://www.capitalbikeshare.com/)의 데이터를 활용하여, 특정 시간대에 얼마나 많은 사람들이 자전거를 대여하는지 예측하는 것이 목표입니다.\n",
        "\n",
        "사람들이 자전거를 대여하는데는 많은 요소가 관여되어 있을 겁니다. 가령 시간(새벽보다 낮에 많이 빌리겠죠), 날씨(비가 오면 자전거를 대여하지 않을 겁니다), 근무일(근무 시간에는 자전거를 대여하지 않겠죠) 등. 이런 모든 요소를 조합하여 워싱턴 D.C의 자전거 교통량을 예측해주세요. 이번 경진대회에서는 기존까지 배웠던 프로그래밍 언어와 인공지능&머신러닝 능력 외에도, 자전거 렌탈 시장에 대한 약간의 전문지식, 그리고 일반인의 기초 상식을 총동원 할 수 있습니다.\n",
        "\n",
        "## 컬럼 설명\n",
        "\n",
        "[데이터셋 다운로드링크](https://www.kaggle.com/c/bike-sharing-demand/data)\n",
        "\n",
        "  * **datetime** - 시간. 연-월-일 시:분:초 로 표현합니다. (가령 2011-01-01 00:00:00은 2011년 1월 1일 0시 0분 0초)\n",
        "  * **season** - 계절. 봄(1), 여름(2), 가을(3), 겨울(4) 순으로 표현합니다.\n",
        "  * **holiday** - 공휴일. 1이면 공휴일이며, 0이면 공휴일이 아닙니다.\n",
        "  * **workingday** - 근무일. 1이면 근무일이며, 0이면 근무일이 아닙니다.\n",
        "  * **weather** - 날씨. 1 ~ 4 사이의 값을 가지며, 구체적으로는 다음과 같습니다.\n",
        "    * 1: 아주 깨끗한 날씨입니다. 또는 아주 약간의 구름이 끼어있습니다.\n",
        "    * 2: 약간의 안개와 구름이 끼어있는 날씨입니다.\n",
        "    * 3: 약간의 눈, 비가 오거나 천둥이 칩니다.\n",
        "    * 4: 아주 많은 비가 오거나 우박이 내립니다.\n",
        "  * **temp** - 온도. 섭씨(Celsius)로 적혀있습니다.\n",
        "  * **atemp** - 체감 온도. 마찬가지로 섭씨(Celsius)로 적혀있습니다.\n",
        "  * **humidity** - 습도.\n",
        "  * **windspeed** - 풍속.\n",
        "  * **casual** - 비회원(non-registered)의 자전거 대여량.\n",
        "  * **registered** - 회원(registered)의 자전거 대여량.\n",
        "  * **count** - 총 자전거 대여랑. 비회원(casual) + 회원(registered)과 동일합니다.\n",
        "  \n",
        "## 프로젝트 구성\n",
        "* 데이터 로드 (load data)\n",
        "* 데이터 개요\n",
        "* 데이터 전처리 (pre-processing)\n",
        "* 모델 생성\n",
        "* 검증\n",
        "* 예측\n",
        "* Kaggle 제출 및 점수확인"
      ]
    },
    {
      "cell_type": "markdown",
      "metadata": {
        "id": "S2hoxXCWnD_R"
      },
      "source": [
        "## 모듈 import \n",
        "\n",
        "필요한 모듈을 import 합니다. 필요에 따라 추가 패키지를 load 할 수 있습니다."
      ]
    },
    {
      "cell_type": "code",
      "metadata": {
        "id": "HwDMmPjysrm7"
      },
      "source": [
        "# 캐글로 csv업로드 하는 이 코드 출처\n",
        "# https://www.youtube.com/watch?v=m-As6o-SLtI\n",
        "# 폴더명이 다른지 제대로 실행이 안됨."
      ],
      "execution_count": null,
      "outputs": []
    },
    {
      "cell_type": "code",
      "metadata": {
        "colab": {
          "base_uri": "https://localhost:8080/"
        },
        "id": "4-1EKt_kbpJW",
        "outputId": "31bc875c-c473-42ef-c2e9-853011f1c55a"
      },
      "source": [
        "!mkdir ~/.kaggle\n",
        "!cp /content/kaggle.json/ ~/.kaggle/\n",
        "!chmod 600 ~/.kaggle/kaggle.json"
      ],
      "execution_count": null,
      "outputs": [
        {
          "output_type": "stream",
          "text": [
            "mkdir: cannot create directory ‘/root/.kaggle’: File exists\n",
            "cp: cannot stat '/content/kaggle.json/': Not a directory\n",
            "chmod: cannot access '/root/.kaggle/kaggle.json': No such file or directory\n"
          ],
          "name": "stdout"
        }
      ]
    },
    {
      "cell_type": "code",
      "metadata": {
        "id": "1FTw4vYTcxLX"
      },
      "source": [
        "!kaggle competitions list"
      ],
      "execution_count": null,
      "outputs": []
    },
    {
      "cell_type": "code",
      "metadata": {
        "colab": {
          "base_uri": "https://localhost:8080/"
        },
        "id": "Bxfh0IA0ecBE",
        "outputId": "aaec74b7-7d44-4e8a-a794-ef3007c4ab1e"
      },
      "source": [
        "!kaggle competitions submit -c bike sharing demand -f /content/sampleSubmission.csv -m Test_ilmechaju_1"
      ],
      "execution_count": null,
      "outputs": [
        {
          "output_type": "stream",
          "text": [
            "Traceback (most recent call last):\n",
            "  File \"/usr/local/bin/kaggle\", line 5, in <module>\n",
            "    from kaggle.cli import main\n",
            "  File \"/usr/local/lib/python2.7/dist-packages/kaggle/__init__.py\", line 23, in <module>\n",
            "    api.authenticate()\n",
            "  File \"/usr/local/lib/python2.7/dist-packages/kaggle/api/kaggle_api_extended.py\", line 146, in authenticate\n",
            "    self.config_file, self.config_dir))\n",
            "IOError: Could not find kaggle.json. Make sure it's located in /root/.kaggle. Or use the environment method.\n"
          ],
          "name": "stdout"
        }
      ]
    },
    {
      "cell_type": "code",
      "metadata": {
        "id": "vzXCHDBWnD_S"
      },
      "source": [
        "import pandas as pd\n",
        "import numpy as np\n",
        "import matplotlib.pyplot as plt\n",
        "import seaborn as sns\n",
        "import datetime\n",
        "import os\n",
        "\n",
        "%matplotlib inline\n",
        "\n",
        "# Data 경로 설정\n",
        "DATA_DIR = ''"
      ],
      "execution_count": null,
      "outputs": []
    },
    {
      "cell_type": "markdown",
      "metadata": {
        "id": "9N7EVx6FnD_S"
      },
      "source": [
        "## 데이터 로드"
      ]
    },
    {
      "cell_type": "markdown",
      "metadata": {
        "id": "aRMeHi_FnD_S"
      },
      "source": [
        "**Kaggle 데이터 분석 대회**에서는 일반적으로 2개의 데이터 셋트를 나누어 제공합니다.\n",
        "\n",
        "1. train: 학습용 데이터 세트. 정답 값이라고 할 수 있는 `label` 값이 같이 제공됩니다.\n",
        "2. test: 예측용 데이터 세트. 정답 값이 빠진 `feature` 들만 제공됩니다. 우리는 이 `feature`를 활용하여 예측을 진행합니다.\n",
        "3. submission: 정답 제출용 데이터 세트. 주어진 형식에 맞춰 정답 값을 기입하고 제출합니다."
      ]
    },
    {
      "cell_type": "code",
      "metadata": {
        "id": "a9D25MquCONi"
      },
      "source": [
        ""
      ],
      "execution_count": null,
      "outputs": []
    },
    {
      "cell_type": "code",
      "metadata": {
        "id": "gX0ScpurnD_S"
      },
      "source": [
        "# train 데이터셋 로드 (train.csv)\n",
        "train = pd.read_csv(os.path.join(DATA_DIR, 'train.csv'))\n",
        "# test 데이터셋 로드 (test.csv)\n",
        "test = pd.read_csv(os.path.join(DATA_DIR, 'test.csv')) "
      ],
      "execution_count": null,
      "outputs": []
    },
    {
      "cell_type": "markdown",
      "metadata": {
        "id": "peUH4mZLnD_T"
      },
      "source": [
        "## 데이터 개요 확인\n",
        "\n",
        "로드한 DataFrame의 가장 기본적인 데이터 구조 및 결측치를 확인합니다."
      ]
    },
    {
      "cell_type": "code",
      "metadata": {
        "colab": {
          "base_uri": "https://localhost:8080/"
        },
        "id": "_8C9f9hznD_T",
        "outputId": "965be7e6-a86c-4cb0-bdc6-61fed0dc3ff7"
      },
      "source": [
        "# train 앞 부분 5개 행 출력\n",
        "train.head()"
      ],
      "execution_count": null,
      "outputs": [
        {
          "output_type": "execute_result",
          "data": {
            "text/html": [
              "<div>\n",
              "<style scoped>\n",
              "    .dataframe tbody tr th:only-of-type {\n",
              "        vertical-align: middle;\n",
              "    }\n",
              "\n",
              "    .dataframe tbody tr th {\n",
              "        vertical-align: top;\n",
              "    }\n",
              "\n",
              "    .dataframe thead th {\n",
              "        text-align: right;\n",
              "    }\n",
              "</style>\n",
              "<table border=\"1\" class=\"dataframe\">\n",
              "  <thead>\n",
              "    <tr style=\"text-align: right;\">\n",
              "      <th></th>\n",
              "      <th>datetime</th>\n",
              "      <th>season</th>\n",
              "      <th>holiday</th>\n",
              "      <th>workingday</th>\n",
              "      <th>weather</th>\n",
              "      <th>temp</th>\n",
              "      <th>atemp</th>\n",
              "      <th>humidity</th>\n",
              "      <th>windspeed</th>\n",
              "      <th>casual</th>\n",
              "      <th>registered</th>\n",
              "      <th>count</th>\n",
              "    </tr>\n",
              "  </thead>\n",
              "  <tbody>\n",
              "    <tr>\n",
              "      <th>0</th>\n",
              "      <td>2011-01-01 00:00:00</td>\n",
              "      <td>1</td>\n",
              "      <td>0</td>\n",
              "      <td>0</td>\n",
              "      <td>1</td>\n",
              "      <td>9.84</td>\n",
              "      <td>14.395</td>\n",
              "      <td>81</td>\n",
              "      <td>0.0</td>\n",
              "      <td>3</td>\n",
              "      <td>13</td>\n",
              "      <td>16</td>\n",
              "    </tr>\n",
              "    <tr>\n",
              "      <th>1</th>\n",
              "      <td>2011-01-01 01:00:00</td>\n",
              "      <td>1</td>\n",
              "      <td>0</td>\n",
              "      <td>0</td>\n",
              "      <td>1</td>\n",
              "      <td>9.02</td>\n",
              "      <td>13.635</td>\n",
              "      <td>80</td>\n",
              "      <td>0.0</td>\n",
              "      <td>8</td>\n",
              "      <td>32</td>\n",
              "      <td>40</td>\n",
              "    </tr>\n",
              "    <tr>\n",
              "      <th>2</th>\n",
              "      <td>2011-01-01 02:00:00</td>\n",
              "      <td>1</td>\n",
              "      <td>0</td>\n",
              "      <td>0</td>\n",
              "      <td>1</td>\n",
              "      <td>9.02</td>\n",
              "      <td>13.635</td>\n",
              "      <td>80</td>\n",
              "      <td>0.0</td>\n",
              "      <td>5</td>\n",
              "      <td>27</td>\n",
              "      <td>32</td>\n",
              "    </tr>\n",
              "    <tr>\n",
              "      <th>3</th>\n",
              "      <td>2011-01-01 03:00:00</td>\n",
              "      <td>1</td>\n",
              "      <td>0</td>\n",
              "      <td>0</td>\n",
              "      <td>1</td>\n",
              "      <td>9.84</td>\n",
              "      <td>14.395</td>\n",
              "      <td>75</td>\n",
              "      <td>0.0</td>\n",
              "      <td>3</td>\n",
              "      <td>10</td>\n",
              "      <td>13</td>\n",
              "    </tr>\n",
              "    <tr>\n",
              "      <th>4</th>\n",
              "      <td>2011-01-01 04:00:00</td>\n",
              "      <td>1</td>\n",
              "      <td>0</td>\n",
              "      <td>0</td>\n",
              "      <td>1</td>\n",
              "      <td>9.84</td>\n",
              "      <td>14.395</td>\n",
              "      <td>75</td>\n",
              "      <td>0.0</td>\n",
              "      <td>0</td>\n",
              "      <td>1</td>\n",
              "      <td>1</td>\n",
              "    </tr>\n",
              "  </tbody>\n",
              "</table>\n",
              "</div>"
            ],
            "text/plain": [
              "              datetime  season  holiday  ...  casual  registered  count\n",
              "0  2011-01-01 00:00:00       1        0  ...       3          13     16\n",
              "1  2011-01-01 01:00:00       1        0  ...       8          32     40\n",
              "2  2011-01-01 02:00:00       1        0  ...       5          27     32\n",
              "3  2011-01-01 03:00:00       1        0  ...       3          10     13\n",
              "4  2011-01-01 04:00:00       1        0  ...       0           1      1\n",
              "\n",
              "[5 rows x 12 columns]"
            ]
          },
          "metadata": {
            "tags": []
          },
          "execution_count": 13
        }
      ]
    },
    {
      "cell_type": "code",
      "metadata": {
        "colab": {
          "base_uri": "https://localhost:8080/"
        },
        "id": "4_vdpmIonD_T",
        "outputId": "1db3eb3c-eb76-41bd-f210-2fc288a35c65"
      },
      "source": [
        "# test 앞 부분 5개 행 출력\n",
        "test.head()"
      ],
      "execution_count": null,
      "outputs": [
        {
          "output_type": "execute_result",
          "data": {
            "text/html": [
              "<div>\n",
              "<style scoped>\n",
              "    .dataframe tbody tr th:only-of-type {\n",
              "        vertical-align: middle;\n",
              "    }\n",
              "\n",
              "    .dataframe tbody tr th {\n",
              "        vertical-align: top;\n",
              "    }\n",
              "\n",
              "    .dataframe thead th {\n",
              "        text-align: right;\n",
              "    }\n",
              "</style>\n",
              "<table border=\"1\" class=\"dataframe\">\n",
              "  <thead>\n",
              "    <tr style=\"text-align: right;\">\n",
              "      <th></th>\n",
              "      <th>datetime</th>\n",
              "      <th>season</th>\n",
              "      <th>holiday</th>\n",
              "      <th>workingday</th>\n",
              "      <th>weather</th>\n",
              "      <th>temp</th>\n",
              "      <th>atemp</th>\n",
              "      <th>humidity</th>\n",
              "      <th>windspeed</th>\n",
              "    </tr>\n",
              "  </thead>\n",
              "  <tbody>\n",
              "    <tr>\n",
              "      <th>0</th>\n",
              "      <td>2011-01-20 00:00:00</td>\n",
              "      <td>1</td>\n",
              "      <td>0</td>\n",
              "      <td>1</td>\n",
              "      <td>1</td>\n",
              "      <td>10.66</td>\n",
              "      <td>11.365</td>\n",
              "      <td>56</td>\n",
              "      <td>26.0027</td>\n",
              "    </tr>\n",
              "    <tr>\n",
              "      <th>1</th>\n",
              "      <td>2011-01-20 01:00:00</td>\n",
              "      <td>1</td>\n",
              "      <td>0</td>\n",
              "      <td>1</td>\n",
              "      <td>1</td>\n",
              "      <td>10.66</td>\n",
              "      <td>13.635</td>\n",
              "      <td>56</td>\n",
              "      <td>0.0000</td>\n",
              "    </tr>\n",
              "    <tr>\n",
              "      <th>2</th>\n",
              "      <td>2011-01-20 02:00:00</td>\n",
              "      <td>1</td>\n",
              "      <td>0</td>\n",
              "      <td>1</td>\n",
              "      <td>1</td>\n",
              "      <td>10.66</td>\n",
              "      <td>13.635</td>\n",
              "      <td>56</td>\n",
              "      <td>0.0000</td>\n",
              "    </tr>\n",
              "    <tr>\n",
              "      <th>3</th>\n",
              "      <td>2011-01-20 03:00:00</td>\n",
              "      <td>1</td>\n",
              "      <td>0</td>\n",
              "      <td>1</td>\n",
              "      <td>1</td>\n",
              "      <td>10.66</td>\n",
              "      <td>12.880</td>\n",
              "      <td>56</td>\n",
              "      <td>11.0014</td>\n",
              "    </tr>\n",
              "    <tr>\n",
              "      <th>4</th>\n",
              "      <td>2011-01-20 04:00:00</td>\n",
              "      <td>1</td>\n",
              "      <td>0</td>\n",
              "      <td>1</td>\n",
              "      <td>1</td>\n",
              "      <td>10.66</td>\n",
              "      <td>12.880</td>\n",
              "      <td>56</td>\n",
              "      <td>11.0014</td>\n",
              "    </tr>\n",
              "  </tbody>\n",
              "</table>\n",
              "</div>"
            ],
            "text/plain": [
              "              datetime  season  holiday  ...   atemp  humidity  windspeed\n",
              "0  2011-01-20 00:00:00       1        0  ...  11.365        56    26.0027\n",
              "1  2011-01-20 01:00:00       1        0  ...  13.635        56     0.0000\n",
              "2  2011-01-20 02:00:00       1        0  ...  13.635        56     0.0000\n",
              "3  2011-01-20 03:00:00       1        0  ...  12.880        56    11.0014\n",
              "4  2011-01-20 04:00:00       1        0  ...  12.880        56    11.0014\n",
              "\n",
              "[5 rows x 9 columns]"
            ]
          },
          "metadata": {
            "tags": []
          },
          "execution_count": 14
        }
      ]
    },
    {
      "cell_type": "code",
      "metadata": {
        "colab": {
          "base_uri": "https://localhost:8080/"
        },
        "id": "7vw_qDeRnD_T",
        "outputId": "fbe239b4-a9ce-4a6c-9042-cdf1de5dbac3"
      },
      "source": [
        "# train, test 의 shape 확인.\n",
        "train.shape, test.shape #train은 10886개, 12컬럼.   #test는 6493개, 9컬럼."
      ],
      "execution_count": null,
      "outputs": [
        {
          "output_type": "execute_result",
          "data": {
            "text/plain": [
              "((10886, 12), (6493, 9))"
            ]
          },
          "metadata": {
            "tags": []
          },
          "execution_count": 15
        }
      ]
    },
    {
      "cell_type": "code",
      "metadata": {
        "colab": {
          "base_uri": "https://localhost:8080/"
        },
        "id": "00B7XCrYnD_T",
        "outputId": "11a7fa90-69fb-498d-a01b-baaca177b8f1"
      },
      "source": [
        "# train column 별 데이터 개수, 타입 확인\n",
        "train.info()"
      ],
      "execution_count": null,
      "outputs": [
        {
          "output_type": "stream",
          "text": [
            "<class 'pandas.core.frame.DataFrame'>\n",
            "RangeIndex: 10886 entries, 0 to 10885\n",
            "Data columns (total 12 columns):\n",
            " #   Column      Non-Null Count  Dtype  \n",
            "---  ------      --------------  -----  \n",
            " 0   datetime    10886 non-null  object \n",
            " 1   season      10886 non-null  int64  \n",
            " 2   holiday     10886 non-null  int64  \n",
            " 3   workingday  10886 non-null  int64  \n",
            " 4   weather     10886 non-null  int64  \n",
            " 5   temp        10886 non-null  float64\n",
            " 6   atemp       10886 non-null  float64\n",
            " 7   humidity    10886 non-null  int64  \n",
            " 8   windspeed   10886 non-null  float64\n",
            " 9   casual      10886 non-null  int64  \n",
            " 10  registered  10886 non-null  int64  \n",
            " 11  count       10886 non-null  int64  \n",
            "dtypes: float64(3), int64(8), object(1)\n",
            "memory usage: 1020.7+ KB\n"
          ],
          "name": "stdout"
        }
      ]
    },
    {
      "cell_type": "code",
      "metadata": {
        "colab": {
          "base_uri": "https://localhost:8080/"
        },
        "id": "i9-8Z1e1nD_U",
        "outputId": "9ae3ec62-c52a-4cbd-eaf4-b949ef93632c"
      },
      "source": [
        "# test column 별 데이터 개수, 타입 확인\n",
        "test.info()"
      ],
      "execution_count": null,
      "outputs": [
        {
          "output_type": "stream",
          "text": [
            "<class 'pandas.core.frame.DataFrame'>\n",
            "RangeIndex: 6493 entries, 0 to 6492\n",
            "Data columns (total 9 columns):\n",
            " #   Column      Non-Null Count  Dtype  \n",
            "---  ------      --------------  -----  \n",
            " 0   datetime    6493 non-null   object \n",
            " 1   season      6493 non-null   int64  \n",
            " 2   holiday     6493 non-null   int64  \n",
            " 3   workingday  6493 non-null   int64  \n",
            " 4   weather     6493 non-null   int64  \n",
            " 5   temp        6493 non-null   float64\n",
            " 6   atemp       6493 non-null   float64\n",
            " 7   humidity    6493 non-null   int64  \n",
            " 8   windspeed   6493 non-null   float64\n",
            "dtypes: float64(3), int64(5), object(1)\n",
            "memory usage: 456.7+ KB\n"
          ],
          "name": "stdout"
        }
      ]
    },
    {
      "cell_type": "code",
      "metadata": {
        "colab": {
          "base_uri": "https://localhost:8080/"
        },
        "id": "VpOGPr3TnD_U",
        "outputId": "4e384a71-9d2f-43b4-c1b4-285b0051da45"
      },
      "source": [
        "# train 결측치 확인  #결측치가 모두 0 이다.\n",
        "train.isnull().sum() "
      ],
      "execution_count": null,
      "outputs": [
        {
          "output_type": "execute_result",
          "data": {
            "text/plain": [
              "datetime      0\n",
              "season        0\n",
              "holiday       0\n",
              "workingday    0\n",
              "weather       0\n",
              "temp          0\n",
              "atemp         0\n",
              "humidity      0\n",
              "windspeed     0\n",
              "casual        0\n",
              "registered    0\n",
              "count         0\n",
              "dtype: int64"
            ]
          },
          "metadata": {
            "tags": []
          },
          "execution_count": 18
        }
      ]
    },
    {
      "cell_type": "code",
      "metadata": {
        "colab": {
          "base_uri": "https://localhost:8080/"
        },
        "id": "gr7P5L_knD_U",
        "outputId": "50d556e2-4b17-46bd-b70a-047ba8952731"
      },
      "source": [
        "# test 결측치 확인\n",
        "test.isnull().sum()"
      ],
      "execution_count": null,
      "outputs": [
        {
          "output_type": "execute_result",
          "data": {
            "text/plain": [
              "datetime      0\n",
              "season        0\n",
              "holiday       0\n",
              "workingday    0\n",
              "weather       0\n",
              "temp          0\n",
              "atemp         0\n",
              "humidity      0\n",
              "windspeed     0\n",
              "dtype: int64"
            ]
          },
          "metadata": {
            "tags": []
          },
          "execution_count": 19
        }
      ]
    },
    {
      "cell_type": "code",
      "metadata": {
        "colab": {
          "base_uri": "https://localhost:8080/"
        },
        "id": "MAh4qF57VSrj",
        "outputId": "868615db-b3f8-4c99-d887-d6d3b60fd8fc"
      },
      "source": [
        "train.head()"
      ],
      "execution_count": null,
      "outputs": [
        {
          "output_type": "execute_result",
          "data": {
            "text/html": [
              "<div>\n",
              "<style scoped>\n",
              "    .dataframe tbody tr th:only-of-type {\n",
              "        vertical-align: middle;\n",
              "    }\n",
              "\n",
              "    .dataframe tbody tr th {\n",
              "        vertical-align: top;\n",
              "    }\n",
              "\n",
              "    .dataframe thead th {\n",
              "        text-align: right;\n",
              "    }\n",
              "</style>\n",
              "<table border=\"1\" class=\"dataframe\">\n",
              "  <thead>\n",
              "    <tr style=\"text-align: right;\">\n",
              "      <th></th>\n",
              "      <th>datetime</th>\n",
              "      <th>season</th>\n",
              "      <th>holiday</th>\n",
              "      <th>workingday</th>\n",
              "      <th>weather</th>\n",
              "      <th>temp</th>\n",
              "      <th>atemp</th>\n",
              "      <th>humidity</th>\n",
              "      <th>windspeed</th>\n",
              "      <th>casual</th>\n",
              "      <th>registered</th>\n",
              "      <th>count</th>\n",
              "    </tr>\n",
              "  </thead>\n",
              "  <tbody>\n",
              "    <tr>\n",
              "      <th>0</th>\n",
              "      <td>2011-01-01 00:00:00</td>\n",
              "      <td>1</td>\n",
              "      <td>0</td>\n",
              "      <td>0</td>\n",
              "      <td>1</td>\n",
              "      <td>9.84</td>\n",
              "      <td>14.395</td>\n",
              "      <td>81</td>\n",
              "      <td>0.0</td>\n",
              "      <td>3</td>\n",
              "      <td>13</td>\n",
              "      <td>16</td>\n",
              "    </tr>\n",
              "    <tr>\n",
              "      <th>1</th>\n",
              "      <td>2011-01-01 01:00:00</td>\n",
              "      <td>1</td>\n",
              "      <td>0</td>\n",
              "      <td>0</td>\n",
              "      <td>1</td>\n",
              "      <td>9.02</td>\n",
              "      <td>13.635</td>\n",
              "      <td>80</td>\n",
              "      <td>0.0</td>\n",
              "      <td>8</td>\n",
              "      <td>32</td>\n",
              "      <td>40</td>\n",
              "    </tr>\n",
              "    <tr>\n",
              "      <th>2</th>\n",
              "      <td>2011-01-01 02:00:00</td>\n",
              "      <td>1</td>\n",
              "      <td>0</td>\n",
              "      <td>0</td>\n",
              "      <td>1</td>\n",
              "      <td>9.02</td>\n",
              "      <td>13.635</td>\n",
              "      <td>80</td>\n",
              "      <td>0.0</td>\n",
              "      <td>5</td>\n",
              "      <td>27</td>\n",
              "      <td>32</td>\n",
              "    </tr>\n",
              "    <tr>\n",
              "      <th>3</th>\n",
              "      <td>2011-01-01 03:00:00</td>\n",
              "      <td>1</td>\n",
              "      <td>0</td>\n",
              "      <td>0</td>\n",
              "      <td>1</td>\n",
              "      <td>9.84</td>\n",
              "      <td>14.395</td>\n",
              "      <td>75</td>\n",
              "      <td>0.0</td>\n",
              "      <td>3</td>\n",
              "      <td>10</td>\n",
              "      <td>13</td>\n",
              "    </tr>\n",
              "    <tr>\n",
              "      <th>4</th>\n",
              "      <td>2011-01-01 04:00:00</td>\n",
              "      <td>1</td>\n",
              "      <td>0</td>\n",
              "      <td>0</td>\n",
              "      <td>1</td>\n",
              "      <td>9.84</td>\n",
              "      <td>14.395</td>\n",
              "      <td>75</td>\n",
              "      <td>0.0</td>\n",
              "      <td>0</td>\n",
              "      <td>1</td>\n",
              "      <td>1</td>\n",
              "    </tr>\n",
              "  </tbody>\n",
              "</table>\n",
              "</div>"
            ],
            "text/plain": [
              "              datetime  season  holiday  ...  casual  registered  count\n",
              "0  2011-01-01 00:00:00       1        0  ...       3          13     16\n",
              "1  2011-01-01 01:00:00       1        0  ...       8          32     40\n",
              "2  2011-01-01 02:00:00       1        0  ...       5          27     32\n",
              "3  2011-01-01 03:00:00       1        0  ...       3          10     13\n",
              "4  2011-01-01 04:00:00       1        0  ...       0           1      1\n",
              "\n",
              "[5 rows x 12 columns]"
            ]
          },
          "metadata": {
            "tags": []
          },
          "execution_count": 20
        }
      ]
    },
    {
      "cell_type": "code",
      "metadata": {
        "id": "HgHeshfOnD_U"
      },
      "source": [
        "# datetime 컬럼 변환\n",
        "# datetime64 타입으로 변환\n",
        "# train 데이터셋 \n",
        "train['datetime'] = pd.to_datetime(train['datetime'])"
      ],
      "execution_count": null,
      "outputs": []
    },
    {
      "cell_type": "code",
      "metadata": {
        "colab": {
          "base_uri": "https://localhost:8080/"
        },
        "id": "xfpJK3YXVU-H",
        "outputId": "401430d9-642d-47cb-c5b8-cbf236c55bd4"
      },
      "source": [
        "train.info()"
      ],
      "execution_count": null,
      "outputs": [
        {
          "output_type": "stream",
          "text": [
            "<class 'pandas.core.frame.DataFrame'>\n",
            "RangeIndex: 10886 entries, 0 to 10885\n",
            "Data columns (total 12 columns):\n",
            " #   Column      Non-Null Count  Dtype         \n",
            "---  ------      --------------  -----         \n",
            " 0   datetime    10886 non-null  datetime64[ns]\n",
            " 1   season      10886 non-null  int64         \n",
            " 2   holiday     10886 non-null  int64         \n",
            " 3   workingday  10886 non-null  int64         \n",
            " 4   weather     10886 non-null  int64         \n",
            " 5   temp        10886 non-null  float64       \n",
            " 6   atemp       10886 non-null  float64       \n",
            " 7   humidity    10886 non-null  int64         \n",
            " 8   windspeed   10886 non-null  float64       \n",
            " 9   casual      10886 non-null  int64         \n",
            " 10  registered  10886 non-null  int64         \n",
            " 11  count       10886 non-null  int64         \n",
            "dtypes: datetime64[ns](1), float64(3), int64(8)\n",
            "memory usage: 1020.7 KB\n"
          ],
          "name": "stdout"
        }
      ]
    },
    {
      "cell_type": "code",
      "metadata": {
        "colab": {
          "base_uri": "https://localhost:8080/"
        },
        "id": "vRJXQFkpVnMl",
        "outputId": "34307200-edb0-4b73-9620-55c7154fe5b6"
      },
      "source": [
        "train['datetime'].dt.weekofyear"
      ],
      "execution_count": null,
      "outputs": [
        {
          "output_type": "stream",
          "text": [
            "/usr/local/lib/python3.7/dist-packages/ipykernel_launcher.py:1: FutureWarning: Series.dt.weekofyear and Series.dt.week have been deprecated.  Please use Series.dt.isocalendar().week instead.\n",
            "  \"\"\"Entry point for launching an IPython kernel.\n"
          ],
          "name": "stderr"
        },
        {
          "output_type": "execute_result",
          "data": {
            "text/plain": [
              "0        52\n",
              "1        52\n",
              "2        52\n",
              "3        52\n",
              "4        52\n",
              "         ..\n",
              "10881    51\n",
              "10882    51\n",
              "10883    51\n",
              "10884    51\n",
              "10885    51\n",
              "Name: datetime, Length: 10886, dtype: int64"
            ]
          },
          "metadata": {
            "tags": []
          },
          "execution_count": 23
        }
      ]
    },
    {
      "cell_type": "code",
      "metadata": {
        "id": "mAv2YID2nD_U"
      },
      "source": [
        "# 연도(year), 월(month), 일(day), 요일(dayofweek), 분기(quarter), 시(hour), 분(minute), 초(second) 컬럼 생성\n",
        "# 생성된 컬럼에 datetime 컬럼으로부터 정보를 추출하여 대입\n",
        "# train 데이터셋 \n",
        "train['year'] = train['datetime'].dt.year\n",
        "train['month'] = train['datetime'].dt.month\n",
        "train['day'] = train['datetime'].dt.day\n",
        "train['dayofweek'] = train['datetime'].dt.dayofweek\n",
        "train['quarter'] = train['datetime'].dt.quarter\n",
        "train['hour'] = train['datetime'].dt.hour\n",
        "train['minute'] = train['datetime'].dt.minute\n",
        "train['second'] = train['datetime'].dt.second"
      ],
      "execution_count": null,
      "outputs": []
    },
    {
      "cell_type": "code",
      "metadata": {
        "colab": {
          "base_uri": "https://localhost:8080/"
        },
        "id": "Us7qffPAnD_V",
        "outputId": "bc3b5c7f-38e2-4c5e-ac1c-c8ff545503bf"
      },
      "source": [
        "# 연도(year), 월(month), 일(day), 요일(dayofweek), 분기(quarter), 시(hour), 분(minute), 초(second) 컬럼 상위 5개 행 출력\n",
        "# train\n",
        "train[['year', 'month', 'day', 'dayofweek', 'quarter', 'hour', 'minute', 'second']].head()"
      ],
      "execution_count": null,
      "outputs": [
        {
          "output_type": "execute_result",
          "data": {
            "text/html": [
              "<div>\n",
              "<style scoped>\n",
              "    .dataframe tbody tr th:only-of-type {\n",
              "        vertical-align: middle;\n",
              "    }\n",
              "\n",
              "    .dataframe tbody tr th {\n",
              "        vertical-align: top;\n",
              "    }\n",
              "\n",
              "    .dataframe thead th {\n",
              "        text-align: right;\n",
              "    }\n",
              "</style>\n",
              "<table border=\"1\" class=\"dataframe\">\n",
              "  <thead>\n",
              "    <tr style=\"text-align: right;\">\n",
              "      <th></th>\n",
              "      <th>year</th>\n",
              "      <th>month</th>\n",
              "      <th>day</th>\n",
              "      <th>dayofweek</th>\n",
              "      <th>quarter</th>\n",
              "      <th>hour</th>\n",
              "      <th>minute</th>\n",
              "      <th>second</th>\n",
              "    </tr>\n",
              "  </thead>\n",
              "  <tbody>\n",
              "    <tr>\n",
              "      <th>0</th>\n",
              "      <td>2011</td>\n",
              "      <td>1</td>\n",
              "      <td>1</td>\n",
              "      <td>5</td>\n",
              "      <td>1</td>\n",
              "      <td>0</td>\n",
              "      <td>0</td>\n",
              "      <td>0</td>\n",
              "    </tr>\n",
              "    <tr>\n",
              "      <th>1</th>\n",
              "      <td>2011</td>\n",
              "      <td>1</td>\n",
              "      <td>1</td>\n",
              "      <td>5</td>\n",
              "      <td>1</td>\n",
              "      <td>1</td>\n",
              "      <td>0</td>\n",
              "      <td>0</td>\n",
              "    </tr>\n",
              "    <tr>\n",
              "      <th>2</th>\n",
              "      <td>2011</td>\n",
              "      <td>1</td>\n",
              "      <td>1</td>\n",
              "      <td>5</td>\n",
              "      <td>1</td>\n",
              "      <td>2</td>\n",
              "      <td>0</td>\n",
              "      <td>0</td>\n",
              "    </tr>\n",
              "    <tr>\n",
              "      <th>3</th>\n",
              "      <td>2011</td>\n",
              "      <td>1</td>\n",
              "      <td>1</td>\n",
              "      <td>5</td>\n",
              "      <td>1</td>\n",
              "      <td>3</td>\n",
              "      <td>0</td>\n",
              "      <td>0</td>\n",
              "    </tr>\n",
              "    <tr>\n",
              "      <th>4</th>\n",
              "      <td>2011</td>\n",
              "      <td>1</td>\n",
              "      <td>1</td>\n",
              "      <td>5</td>\n",
              "      <td>1</td>\n",
              "      <td>4</td>\n",
              "      <td>0</td>\n",
              "      <td>0</td>\n",
              "    </tr>\n",
              "  </tbody>\n",
              "</table>\n",
              "</div>"
            ],
            "text/plain": [
              "   year  month  day  dayofweek  quarter  hour  minute  second\n",
              "0  2011      1    1          5        1     0       0       0\n",
              "1  2011      1    1          5        1     1       0       0\n",
              "2  2011      1    1          5        1     2       0       0\n",
              "3  2011      1    1          5        1     3       0       0\n",
              "4  2011      1    1          5        1     4       0       0"
            ]
          },
          "metadata": {
            "tags": []
          },
          "execution_count": 25
        }
      ]
    },
    {
      "cell_type": "code",
      "metadata": {
        "id": "uqk8DAF9nD_V"
      },
      "source": [
        "# datetime 컬럼 변환\n",
        "# datetime64 타입으로 변환\n",
        "# test 데이터셋 \n",
        "test['datetime'] = pd.to_datetime(test['datetime'])"
      ],
      "execution_count": null,
      "outputs": []
    },
    {
      "cell_type": "code",
      "metadata": {
        "id": "YDZWyEoPnD_V"
      },
      "source": [
        "# 연도(year), 월(month), 일(day), 요일(dayofweek), 분기(quarter), 시(hour), 분(minute), 초(second) 컬럼 생성\n",
        "# 생성된 컬럼에 datetime 컬럼으로부터 정보를 추출하여 대입\n",
        "# test\n",
        "test['year'] = test['datetime'].dt.year\n",
        "test['month'] = test['datetime'].dt.month\n",
        "test['day'] = test['datetime'].dt.day\n",
        "test['dayofweek'] = test['datetime'].dt.dayofweek\n",
        "test['quarter'] = test['datetime'].dt.quarter\n",
        "test['hour'] = test['datetime'].dt.hour\n",
        "test['minute'] = test['datetime'].dt.minute\n",
        "test['second'] = test['datetime'].dt.second"
      ],
      "execution_count": null,
      "outputs": []
    },
    {
      "cell_type": "code",
      "metadata": {
        "colab": {
          "base_uri": "https://localhost:8080/"
        },
        "id": "8T4QMamOnD_V",
        "outputId": "1b63c658-2d53-44ab-8d96-19cf02fb7ffd"
      },
      "source": [
        "# 연도(year), 월(month), 일(day), 요일(dayofweek), 분기(quarter), 시(hour), 분(minute), 초(second) 컬럼 상위 5개 행 출력\n",
        "# test 데이터셋 \n",
        "test[['year', 'month', 'day', 'dayofweek', 'quarter', 'hour', 'minute', 'second']].head()"
      ],
      "execution_count": null,
      "outputs": [
        {
          "output_type": "execute_result",
          "data": {
            "text/html": [
              "<div>\n",
              "<style scoped>\n",
              "    .dataframe tbody tr th:only-of-type {\n",
              "        vertical-align: middle;\n",
              "    }\n",
              "\n",
              "    .dataframe tbody tr th {\n",
              "        vertical-align: top;\n",
              "    }\n",
              "\n",
              "    .dataframe thead th {\n",
              "        text-align: right;\n",
              "    }\n",
              "</style>\n",
              "<table border=\"1\" class=\"dataframe\">\n",
              "  <thead>\n",
              "    <tr style=\"text-align: right;\">\n",
              "      <th></th>\n",
              "      <th>year</th>\n",
              "      <th>month</th>\n",
              "      <th>day</th>\n",
              "      <th>dayofweek</th>\n",
              "      <th>quarter</th>\n",
              "      <th>hour</th>\n",
              "      <th>minute</th>\n",
              "      <th>second</th>\n",
              "    </tr>\n",
              "  </thead>\n",
              "  <tbody>\n",
              "    <tr>\n",
              "      <th>0</th>\n",
              "      <td>2011</td>\n",
              "      <td>1</td>\n",
              "      <td>20</td>\n",
              "      <td>3</td>\n",
              "      <td>1</td>\n",
              "      <td>0</td>\n",
              "      <td>0</td>\n",
              "      <td>0</td>\n",
              "    </tr>\n",
              "    <tr>\n",
              "      <th>1</th>\n",
              "      <td>2011</td>\n",
              "      <td>1</td>\n",
              "      <td>20</td>\n",
              "      <td>3</td>\n",
              "      <td>1</td>\n",
              "      <td>1</td>\n",
              "      <td>0</td>\n",
              "      <td>0</td>\n",
              "    </tr>\n",
              "    <tr>\n",
              "      <th>2</th>\n",
              "      <td>2011</td>\n",
              "      <td>1</td>\n",
              "      <td>20</td>\n",
              "      <td>3</td>\n",
              "      <td>1</td>\n",
              "      <td>2</td>\n",
              "      <td>0</td>\n",
              "      <td>0</td>\n",
              "    </tr>\n",
              "    <tr>\n",
              "      <th>3</th>\n",
              "      <td>2011</td>\n",
              "      <td>1</td>\n",
              "      <td>20</td>\n",
              "      <td>3</td>\n",
              "      <td>1</td>\n",
              "      <td>3</td>\n",
              "      <td>0</td>\n",
              "      <td>0</td>\n",
              "    </tr>\n",
              "    <tr>\n",
              "      <th>4</th>\n",
              "      <td>2011</td>\n",
              "      <td>1</td>\n",
              "      <td>20</td>\n",
              "      <td>3</td>\n",
              "      <td>1</td>\n",
              "      <td>4</td>\n",
              "      <td>0</td>\n",
              "      <td>0</td>\n",
              "    </tr>\n",
              "  </tbody>\n",
              "</table>\n",
              "</div>"
            ],
            "text/plain": [
              "   year  month  day  dayofweek  quarter  hour  minute  second\n",
              "0  2011      1   20          3        1     0       0       0\n",
              "1  2011      1   20          3        1     1       0       0\n",
              "2  2011      1   20          3        1     2       0       0\n",
              "3  2011      1   20          3        1     3       0       0\n",
              "4  2011      1   20          3        1     4       0       0"
            ]
          },
          "metadata": {
            "tags": []
          },
          "execution_count": 28
        }
      ]
    },
    {
      "cell_type": "code",
      "metadata": {
        "colab": {
          "base_uri": "https://localhost:8080/"
        },
        "id": "rWqi1FlSnD_V",
        "outputId": "ef50c29f-269c-4cc9-b408-da6a6c854271"
      },
      "source": [
        "train.head()"
      ],
      "execution_count": null,
      "outputs": [
        {
          "output_type": "execute_result",
          "data": {
            "text/html": [
              "<div>\n",
              "<style scoped>\n",
              "    .dataframe tbody tr th:only-of-type {\n",
              "        vertical-align: middle;\n",
              "    }\n",
              "\n",
              "    .dataframe tbody tr th {\n",
              "        vertical-align: top;\n",
              "    }\n",
              "\n",
              "    .dataframe thead th {\n",
              "        text-align: right;\n",
              "    }\n",
              "</style>\n",
              "<table border=\"1\" class=\"dataframe\">\n",
              "  <thead>\n",
              "    <tr style=\"text-align: right;\">\n",
              "      <th></th>\n",
              "      <th>datetime</th>\n",
              "      <th>season</th>\n",
              "      <th>holiday</th>\n",
              "      <th>workingday</th>\n",
              "      <th>weather</th>\n",
              "      <th>temp</th>\n",
              "      <th>atemp</th>\n",
              "      <th>humidity</th>\n",
              "      <th>windspeed</th>\n",
              "      <th>casual</th>\n",
              "      <th>registered</th>\n",
              "      <th>count</th>\n",
              "      <th>year</th>\n",
              "      <th>month</th>\n",
              "      <th>day</th>\n",
              "      <th>dayofweek</th>\n",
              "      <th>quarter</th>\n",
              "      <th>hour</th>\n",
              "      <th>minute</th>\n",
              "      <th>second</th>\n",
              "    </tr>\n",
              "  </thead>\n",
              "  <tbody>\n",
              "    <tr>\n",
              "      <th>0</th>\n",
              "      <td>2011-01-01 00:00:00</td>\n",
              "      <td>1</td>\n",
              "      <td>0</td>\n",
              "      <td>0</td>\n",
              "      <td>1</td>\n",
              "      <td>9.84</td>\n",
              "      <td>14.395</td>\n",
              "      <td>81</td>\n",
              "      <td>0.0</td>\n",
              "      <td>3</td>\n",
              "      <td>13</td>\n",
              "      <td>16</td>\n",
              "      <td>2011</td>\n",
              "      <td>1</td>\n",
              "      <td>1</td>\n",
              "      <td>5</td>\n",
              "      <td>1</td>\n",
              "      <td>0</td>\n",
              "      <td>0</td>\n",
              "      <td>0</td>\n",
              "    </tr>\n",
              "    <tr>\n",
              "      <th>1</th>\n",
              "      <td>2011-01-01 01:00:00</td>\n",
              "      <td>1</td>\n",
              "      <td>0</td>\n",
              "      <td>0</td>\n",
              "      <td>1</td>\n",
              "      <td>9.02</td>\n",
              "      <td>13.635</td>\n",
              "      <td>80</td>\n",
              "      <td>0.0</td>\n",
              "      <td>8</td>\n",
              "      <td>32</td>\n",
              "      <td>40</td>\n",
              "      <td>2011</td>\n",
              "      <td>1</td>\n",
              "      <td>1</td>\n",
              "      <td>5</td>\n",
              "      <td>1</td>\n",
              "      <td>1</td>\n",
              "      <td>0</td>\n",
              "      <td>0</td>\n",
              "    </tr>\n",
              "    <tr>\n",
              "      <th>2</th>\n",
              "      <td>2011-01-01 02:00:00</td>\n",
              "      <td>1</td>\n",
              "      <td>0</td>\n",
              "      <td>0</td>\n",
              "      <td>1</td>\n",
              "      <td>9.02</td>\n",
              "      <td>13.635</td>\n",
              "      <td>80</td>\n",
              "      <td>0.0</td>\n",
              "      <td>5</td>\n",
              "      <td>27</td>\n",
              "      <td>32</td>\n",
              "      <td>2011</td>\n",
              "      <td>1</td>\n",
              "      <td>1</td>\n",
              "      <td>5</td>\n",
              "      <td>1</td>\n",
              "      <td>2</td>\n",
              "      <td>0</td>\n",
              "      <td>0</td>\n",
              "    </tr>\n",
              "    <tr>\n",
              "      <th>3</th>\n",
              "      <td>2011-01-01 03:00:00</td>\n",
              "      <td>1</td>\n",
              "      <td>0</td>\n",
              "      <td>0</td>\n",
              "      <td>1</td>\n",
              "      <td>9.84</td>\n",
              "      <td>14.395</td>\n",
              "      <td>75</td>\n",
              "      <td>0.0</td>\n",
              "      <td>3</td>\n",
              "      <td>10</td>\n",
              "      <td>13</td>\n",
              "      <td>2011</td>\n",
              "      <td>1</td>\n",
              "      <td>1</td>\n",
              "      <td>5</td>\n",
              "      <td>1</td>\n",
              "      <td>3</td>\n",
              "      <td>0</td>\n",
              "      <td>0</td>\n",
              "    </tr>\n",
              "    <tr>\n",
              "      <th>4</th>\n",
              "      <td>2011-01-01 04:00:00</td>\n",
              "      <td>1</td>\n",
              "      <td>0</td>\n",
              "      <td>0</td>\n",
              "      <td>1</td>\n",
              "      <td>9.84</td>\n",
              "      <td>14.395</td>\n",
              "      <td>75</td>\n",
              "      <td>0.0</td>\n",
              "      <td>0</td>\n",
              "      <td>1</td>\n",
              "      <td>1</td>\n",
              "      <td>2011</td>\n",
              "      <td>1</td>\n",
              "      <td>1</td>\n",
              "      <td>5</td>\n",
              "      <td>1</td>\n",
              "      <td>4</td>\n",
              "      <td>0</td>\n",
              "      <td>0</td>\n",
              "    </tr>\n",
              "  </tbody>\n",
              "</table>\n",
              "</div>"
            ],
            "text/plain": [
              "             datetime  season  holiday  ...  hour  minute  second\n",
              "0 2011-01-01 00:00:00       1        0  ...     0       0       0\n",
              "1 2011-01-01 01:00:00       1        0  ...     1       0       0\n",
              "2 2011-01-01 02:00:00       1        0  ...     2       0       0\n",
              "3 2011-01-01 03:00:00       1        0  ...     3       0       0\n",
              "4 2011-01-01 04:00:00       1        0  ...     4       0       0\n",
              "\n",
              "[5 rows x 20 columns]"
            ]
          },
          "metadata": {
            "tags": []
          },
          "execution_count": 29
        }
      ]
    },
    {
      "cell_type": "code",
      "metadata": {
        "colab": {
          "base_uri": "https://localhost:8080/"
        },
        "id": "v7cgSzBjnD_V",
        "outputId": "07ed9669-cafb-4b10-9efd-d898683827ae"
      },
      "source": [
        "# 연도(year)별 데이터셋 개수 시각화(countplot)\n",
        "sns.countplot(x='year', data=train)\n",
        "plt.show()"
      ],
      "execution_count": null,
      "outputs": [
        {
          "output_type": "display_data",
          "data": {
            "image/png": "[encoded data removed]",
            "text/plain": [
              "<Figure size 432x288 with 1 Axes>"
            ]
          },
          "metadata": {
            "tags": [],
            "needs_background": "light"
          }
        }
      ]
    },
    {
      "cell_type": "code",
      "metadata": {
        "colab": {
          "base_uri": "https://localhost:8080/"
        },
        "id": "4Hw3v-TcnD_W",
        "outputId": "058d86dd-376a-4679-a52c-7d077f62aa24"
      },
      "source": [
        "# 월별(month)별 평균 온도(temp)\n",
        "# train 데이터셋\n",
        "pd.DataFrame(train.groupby('month')['temp'].mean())"
      ],
      "execution_count": null,
      "outputs": [
        {
          "output_type": "execute_result",
          "data": {
            "text/html": [
              "<div>\n",
              "<style scoped>\n",
              "    .dataframe tbody tr th:only-of-type {\n",
              "        vertical-align: middle;\n",
              "    }\n",
              "\n",
              "    .dataframe tbody tr th {\n",
              "        vertical-align: top;\n",
              "    }\n",
              "\n",
              "    .dataframe thead th {\n",
              "        text-align: right;\n",
              "    }\n",
              "</style>\n",
              "<table border=\"1\" class=\"dataframe\">\n",
              "  <thead>\n",
              "    <tr style=\"text-align: right;\">\n",
              "      <th></th>\n",
              "      <th>temp</th>\n",
              "    </tr>\n",
              "    <tr>\n",
              "      <th>month</th>\n",
              "      <th></th>\n",
              "    </tr>\n",
              "  </thead>\n",
              "  <tbody>\n",
              "    <tr>\n",
              "      <th>1</th>\n",
              "      <td>9.840000</td>\n",
              "    </tr>\n",
              "    <tr>\n",
              "      <th>2</th>\n",
              "      <td>11.798535</td>\n",
              "    </tr>\n",
              "    <tr>\n",
              "      <th>3</th>\n",
              "      <td>15.902175</td>\n",
              "    </tr>\n",
              "    <tr>\n",
              "      <th>4</th>\n",
              "      <td>18.718372</td>\n",
              "    </tr>\n",
              "    <tr>\n",
              "      <th>5</th>\n",
              "      <td>22.674079</td>\n",
              "    </tr>\n",
              "    <tr>\n",
              "      <th>6</th>\n",
              "      <td>27.064496</td>\n",
              "    </tr>\n",
              "    <tr>\n",
              "      <th>7</th>\n",
              "      <td>30.841711</td>\n",
              "    </tr>\n",
              "    <tr>\n",
              "      <th>8</th>\n",
              "      <td>29.736689</td>\n",
              "    </tr>\n",
              "    <tr>\n",
              "      <th>9</th>\n",
              "      <td>25.779032</td>\n",
              "    </tr>\n",
              "    <tr>\n",
              "      <th>10</th>\n",
              "      <td>20.933853</td>\n",
              "    </tr>\n",
              "    <tr>\n",
              "      <th>11</th>\n",
              "      <td>15.185752</td>\n",
              "    </tr>\n",
              "    <tr>\n",
              "      <th>12</th>\n",
              "      <td>13.831206</td>\n",
              "    </tr>\n",
              "  </tbody>\n",
              "</table>\n",
              "</div>"
            ],
            "text/plain": [
              "            temp\n",
              "month           \n",
              "1       9.840000\n",
              "2      11.798535\n",
              "3      15.902175\n",
              "4      18.718372\n",
              "5      22.674079\n",
              "6      27.064496\n",
              "7      30.841711\n",
              "8      29.736689\n",
              "9      25.779032\n",
              "10     20.933853\n",
              "11     15.185752\n",
              "12     13.831206"
            ]
          },
          "metadata": {
            "tags": []
          },
          "execution_count": 31
        }
      ]
    },
    {
      "cell_type": "code",
      "metadata": {
        "colab": {
          "base_uri": "https://localhost:8080/"
        },
        "id": "qoLsxgppnD_W",
        "outputId": "9a84b376-b070-49d9-a3b1-1bc94c33d5ff"
      },
      "source": [
        "# 월별(month)별 평균 온도(temp) 시각화(bar-dataframe)\n",
        "# train 데이터셋\n",
        "pd.DataFrame(train.groupby('month')['temp'].mean()).plot(kind='bar')\n",
        "plt.show()"
      ],
      "execution_count": null,
      "outputs": [
        {
          "output_type": "display_data",
          "data": {
            "image/png": "[encoded data removed]",
            "text/plain": [
              "<Figure size 432x288 with 1 Axes>"
            ]
          },
          "metadata": {
            "tags": [],
            "needs_background": "light"
          }
        }
      ]
    },
    {
      "cell_type": "code",
      "metadata": {
        "colab": {
          "base_uri": "https://localhost:8080/"
        },
        "id": "f2W3lOdTnD_W",
        "outputId": "f9b67be6-52da-492c-b74f-e3686fc1b595"
      },
      "source": [
        "# 월별(month)별 / 연도(year)별 평균 온도(temp) 시각화(barplot-seaborn)\n",
        "# train 데이터셋\n",
        "sns.barplot(x='month', y='temp', hue='year', data=train)\n",
        "plt.show()"
      ],
      "execution_count": null,
      "outputs": [
        {
          "output_type": "display_data",
          "data": {
            "image/png": "[encoded data removed]",
            "text/plain": [
              "<Figure size 432x288 with 1 Axes>"
            ]
          },
          "metadata": {
            "tags": [],
            "needs_background": "light"
          }
        }
      ]
    },
    {
      "cell_type": "code",
      "metadata": {
        "colab": {
          "base_uri": "https://localhost:8080/"
        },
        "id": "r6HAgoZ8nD_W",
        "outputId": "ac9939c7-0d28-4652-febe-99f46e37aade"
      },
      "source": [
        "# 월별(month)별 / 연도(year)별 평균 대여량(count) 시각화(barplot-seaborn)\n",
        "# train 데이터셋\n",
        "sns.barplot(x='month', y='count', hue='year', data=train)\n",
        "plt.show()"
      ],
      "execution_count": null,
      "outputs": [
        {
          "output_type": "display_data",
          "data": {
            "image/png": "[encoded data removed]",
            "text/plain": [
              "<Figure size 432x288 with 1 Axes>"
            ]
          },
          "metadata": {
            "tags": [],
            "needs_background": "light"
          }
        }
      ]
    },
    {
      "cell_type": "code",
      "metadata": {
        "colab": {
          "base_uri": "https://localhost:8080/"
        },
        "id": "UtXNVEoNnD_W",
        "outputId": "cecdb3b7-8777-4546-861d-568da7694c87"
      },
      "source": [
        "# 분기별 데이터 분포 확인\n",
        "# train 데이터셋\n",
        "train['quarter'].value_counts()"
      ],
      "execution_count": null,
      "outputs": [
        {
          "output_type": "execute_result",
          "data": {
            "text/plain": [
              "4    2734\n",
              "3    2733\n",
              "2    2733\n",
              "1    2686\n",
              "Name: quarter, dtype: int64"
            ]
          },
          "metadata": {
            "tags": []
          },
          "execution_count": 35
        }
      ]
    },
    {
      "cell_type": "code",
      "metadata": {
        "colab": {
          "base_uri": "https://localhost:8080/"
        },
        "id": "9fQBvDRonD_W",
        "outputId": "0383ac31-e196-4448-f1ac-ec6d230ccc32"
      },
      "source": [
        "# 시간(hour)별 데이터 분포 확인\n",
        "# train 데이터셋\n",
        "train['hour'].value_counts()"
      ],
      "execution_count": null,
      "outputs": [
        {
          "output_type": "execute_result",
          "data": {
            "text/plain": [
              "23    456\n",
              "20    456\n",
              "16    456\n",
              "17    456\n",
              "18    456\n",
              "15    456\n",
              "12    456\n",
              "19    456\n",
              "13    456\n",
              "21    456\n",
              "14    456\n",
              "22    456\n",
              "6     455\n",
              "11    455\n",
              "10    455\n",
              "9     455\n",
              "7     455\n",
              "8     455\n",
              "0     455\n",
              "1     454\n",
              "5     452\n",
              "2     448\n",
              "4     442\n",
              "3     433\n",
              "Name: hour, dtype: int64"
            ]
          },
          "metadata": {
            "tags": []
          },
          "execution_count": 36
        }
      ]
    },
    {
      "cell_type": "code",
      "metadata": {
        "colab": {
          "base_uri": "https://localhost:8080/"
        },
        "id": "5u4rz2OsnD_W",
        "outputId": "e02b7481-824a-4c6f-837e-77b3403a83f7"
      },
      "source": [
        "# 분(minute)별 데이터 분포 확인\n",
        "# train 데이터셋\n",
        "train['minute'].value_counts()"
      ],
      "execution_count": null,
      "outputs": [
        {
          "output_type": "execute_result",
          "data": {
            "text/plain": [
              "0    10886\n",
              "Name: minute, dtype: int64"
            ]
          },
          "metadata": {
            "tags": []
          },
          "execution_count": 37
        }
      ]
    },
    {
      "cell_type": "code",
      "metadata": {
        "colab": {
          "base_uri": "https://localhost:8080/"
        },
        "id": "2adKBTsSnD_X",
        "outputId": "db2449ec-4390-496b-f638-4441bf3a3a66"
      },
      "source": [
        "# 초(second)별 데이터 분포 확인\n",
        "# train 데이터셋\n",
        "train['second'].value_counts()"
      ],
      "execution_count": null,
      "outputs": [
        {
          "output_type": "execute_result",
          "data": {
            "text/plain": [
              "0    10886\n",
              "Name: second, dtype: int64"
            ]
          },
          "metadata": {
            "tags": []
          },
          "execution_count": 38
        }
      ]
    },
    {
      "cell_type": "markdown",
      "metadata": {
        "id": "0WkfOIuqnD_X"
      },
      "source": [
        "분(minute)과 초(second)는 단일 값으로 분포하고 있음을 확인한다.\n",
        "\n",
        "단일 값으로 구성되어 있는 경우, 머신러닝 예측에 도움이 되지 않으므로 (모든 값이 동일) 제거한다"
      ]
    },
    {
      "cell_type": "code",
      "metadata": {
        "colab": {
          "base_uri": "https://localhost:8080/"
        },
        "id": "wlw4WbBSnD_X",
        "outputId": "c9808b25-8e42-41b9-8838-c8bfcf922f10"
      },
      "source": [
        "# minute, second 컬럼 제거\n",
        "# 제거 후 상위 5개 행 출력\n",
        "# train 데이터셋\n",
        "train = train.drop(['minute', 'second'], axis=1)\n",
        "train.head()"
      ],
      "execution_count": null,
      "outputs": [
        {
          "output_type": "execute_result",
          "data": {
            "text/html": [
              "<div>\n",
              "<style scoped>\n",
              "    .dataframe tbody tr th:only-of-type {\n",
              "        vertical-align: middle;\n",
              "    }\n",
              "\n",
              "    .dataframe tbody tr th {\n",
              "        vertical-align: top;\n",
              "    }\n",
              "\n",
              "    .dataframe thead th {\n",
              "        text-align: right;\n",
              "    }\n",
              "</style>\n",
              "<table border=\"1\" class=\"dataframe\">\n",
              "  <thead>\n",
              "    <tr style=\"text-align: right;\">\n",
              "      <th></th>\n",
              "      <th>datetime</th>\n",
              "      <th>season</th>\n",
              "      <th>holiday</th>\n",
              "      <th>workingday</th>\n",
              "      <th>weather</th>\n",
              "      <th>temp</th>\n",
              "      <th>atemp</th>\n",
              "      <th>humidity</th>\n",
              "      <th>windspeed</th>\n",
              "      <th>casual</th>\n",
              "      <th>registered</th>\n",
              "      <th>count</th>\n",
              "      <th>year</th>\n",
              "      <th>month</th>\n",
              "      <th>day</th>\n",
              "      <th>dayofweek</th>\n",
              "      <th>quarter</th>\n",
              "      <th>hour</th>\n",
              "    </tr>\n",
              "  </thead>\n",
              "  <tbody>\n",
              "    <tr>\n",
              "      <th>0</th>\n",
              "      <td>2011-01-01 00:00:00</td>\n",
              "      <td>1</td>\n",
              "      <td>0</td>\n",
              "      <td>0</td>\n",
              "      <td>1</td>\n",
              "      <td>9.84</td>\n",
              "      <td>14.395</td>\n",
              "      <td>81</td>\n",
              "      <td>0.0</td>\n",
              "      <td>3</td>\n",
              "      <td>13</td>\n",
              "      <td>16</td>\n",
              "      <td>2011</td>\n",
              "      <td>1</td>\n",
              "      <td>1</td>\n",
              "      <td>5</td>\n",
              "      <td>1</td>\n",
              "      <td>0</td>\n",
              "    </tr>\n",
              "    <tr>\n",
              "      <th>1</th>\n",
              "      <td>2011-01-01 01:00:00</td>\n",
              "      <td>1</td>\n",
              "      <td>0</td>\n",
              "      <td>0</td>\n",
              "      <td>1</td>\n",
              "      <td>9.02</td>\n",
              "      <td>13.635</td>\n",
              "      <td>80</td>\n",
              "      <td>0.0</td>\n",
              "      <td>8</td>\n",
              "      <td>32</td>\n",
              "      <td>40</td>\n",
              "      <td>2011</td>\n",
              "      <td>1</td>\n",
              "      <td>1</td>\n",
              "      <td>5</td>\n",
              "      <td>1</td>\n",
              "      <td>1</td>\n",
              "    </tr>\n",
              "    <tr>\n",
              "      <th>2</th>\n",
              "      <td>2011-01-01 02:00:00</td>\n",
              "      <td>1</td>\n",
              "      <td>0</td>\n",
              "      <td>0</td>\n",
              "      <td>1</td>\n",
              "      <td>9.02</td>\n",
              "      <td>13.635</td>\n",
              "      <td>80</td>\n",
              "      <td>0.0</td>\n",
              "      <td>5</td>\n",
              "      <td>27</td>\n",
              "      <td>32</td>\n",
              "      <td>2011</td>\n",
              "      <td>1</td>\n",
              "      <td>1</td>\n",
              "      <td>5</td>\n",
              "      <td>1</td>\n",
              "      <td>2</td>\n",
              "    </tr>\n",
              "    <tr>\n",
              "      <th>3</th>\n",
              "      <td>2011-01-01 03:00:00</td>\n",
              "      <td>1</td>\n",
              "      <td>0</td>\n",
              "      <td>0</td>\n",
              "      <td>1</td>\n",
              "      <td>9.84</td>\n",
              "      <td>14.395</td>\n",
              "      <td>75</td>\n",
              "      <td>0.0</td>\n",
              "      <td>3</td>\n",
              "      <td>10</td>\n",
              "      <td>13</td>\n",
              "      <td>2011</td>\n",
              "      <td>1</td>\n",
              "      <td>1</td>\n",
              "      <td>5</td>\n",
              "      <td>1</td>\n",
              "      <td>3</td>\n",
              "    </tr>\n",
              "    <tr>\n",
              "      <th>4</th>\n",
              "      <td>2011-01-01 04:00:00</td>\n",
              "      <td>1</td>\n",
              "      <td>0</td>\n",
              "      <td>0</td>\n",
              "      <td>1</td>\n",
              "      <td>9.84</td>\n",
              "      <td>14.395</td>\n",
              "      <td>75</td>\n",
              "      <td>0.0</td>\n",
              "      <td>0</td>\n",
              "      <td>1</td>\n",
              "      <td>1</td>\n",
              "      <td>2011</td>\n",
              "      <td>1</td>\n",
              "      <td>1</td>\n",
              "      <td>5</td>\n",
              "      <td>1</td>\n",
              "      <td>4</td>\n",
              "    </tr>\n",
              "  </tbody>\n",
              "</table>\n",
              "</div>"
            ],
            "text/plain": [
              "             datetime  season  holiday  ...  dayofweek  quarter  hour\n",
              "0 2011-01-01 00:00:00       1        0  ...          5        1     0\n",
              "1 2011-01-01 01:00:00       1        0  ...          5        1     1\n",
              "2 2011-01-01 02:00:00       1        0  ...          5        1     2\n",
              "3 2011-01-01 03:00:00       1        0  ...          5        1     3\n",
              "4 2011-01-01 04:00:00       1        0  ...          5        1     4\n",
              "\n",
              "[5 rows x 18 columns]"
            ]
          },
          "metadata": {
            "tags": []
          },
          "execution_count": 39
        }
      ]
    },
    {
      "cell_type": "code",
      "metadata": {
        "colab": {
          "base_uri": "https://localhost:8080/"
        },
        "id": "cOS8Il7rnD_X",
        "outputId": "fbd23ca7-0ee2-4ff9-e1cd-1af71081cbab"
      },
      "source": [
        "# minute, second 컬럼 제거\n",
        "# 제거 후 상위 5개 행 출력\n",
        "# test 데이터셋\n",
        "test = test.drop(['minute', 'second'], axis=1)\n",
        "test.head()"
      ],
      "execution_count": null,
      "outputs": [
        {
          "output_type": "execute_result",
          "data": {
            "text/html": [
              "<div>\n",
              "<style scoped>\n",
              "    .dataframe tbody tr th:only-of-type {\n",
              "        vertical-align: middle;\n",
              "    }\n",
              "\n",
              "    .dataframe tbody tr th {\n",
              "        vertical-align: top;\n",
              "    }\n",
              "\n",
              "    .dataframe thead th {\n",
              "        text-align: right;\n",
              "    }\n",
              "</style>\n",
              "<table border=\"1\" class=\"dataframe\">\n",
              "  <thead>\n",
              "    <tr style=\"text-align: right;\">\n",
              "      <th></th>\n",
              "      <th>datetime</th>\n",
              "      <th>season</th>\n",
              "      <th>holiday</th>\n",
              "      <th>workingday</th>\n",
              "      <th>weather</th>\n",
              "      <th>temp</th>\n",
              "      <th>atemp</th>\n",
              "      <th>humidity</th>\n",
              "      <th>windspeed</th>\n",
              "      <th>year</th>\n",
              "      <th>month</th>\n",
              "      <th>day</th>\n",
              "      <th>dayofweek</th>\n",
              "      <th>quarter</th>\n",
              "      <th>hour</th>\n",
              "    </tr>\n",
              "  </thead>\n",
              "  <tbody>\n",
              "    <tr>\n",
              "      <th>0</th>\n",
              "      <td>2011-01-20 00:00:00</td>\n",
              "      <td>1</td>\n",
              "      <td>0</td>\n",
              "      <td>1</td>\n",
              "      <td>1</td>\n",
              "      <td>10.66</td>\n",
              "      <td>11.365</td>\n",
              "      <td>56</td>\n",
              "      <td>26.0027</td>\n",
              "      <td>2011</td>\n",
              "      <td>1</td>\n",
              "      <td>20</td>\n",
              "      <td>3</td>\n",
              "      <td>1</td>\n",
              "      <td>0</td>\n",
              "    </tr>\n",
              "    <tr>\n",
              "      <th>1</th>\n",
              "      <td>2011-01-20 01:00:00</td>\n",
              "      <td>1</td>\n",
              "      <td>0</td>\n",
              "      <td>1</td>\n",
              "      <td>1</td>\n",
              "      <td>10.66</td>\n",
              "      <td>13.635</td>\n",
              "      <td>56</td>\n",
              "      <td>0.0000</td>\n",
              "      <td>2011</td>\n",
              "      <td>1</td>\n",
              "      <td>20</td>\n",
              "      <td>3</td>\n",
              "      <td>1</td>\n",
              "      <td>1</td>\n",
              "    </tr>\n",
              "    <tr>\n",
              "      <th>2</th>\n",
              "      <td>2011-01-20 02:00:00</td>\n",
              "      <td>1</td>\n",
              "      <td>0</td>\n",
              "      <td>1</td>\n",
              "      <td>1</td>\n",
              "      <td>10.66</td>\n",
              "      <td>13.635</td>\n",
              "      <td>56</td>\n",
              "      <td>0.0000</td>\n",
              "      <td>2011</td>\n",
              "      <td>1</td>\n",
              "      <td>20</td>\n",
              "      <td>3</td>\n",
              "      <td>1</td>\n",
              "      <td>2</td>\n",
              "    </tr>\n",
              "    <tr>\n",
              "      <th>3</th>\n",
              "      <td>2011-01-20 03:00:00</td>\n",
              "      <td>1</td>\n",
              "      <td>0</td>\n",
              "      <td>1</td>\n",
              "      <td>1</td>\n",
              "      <td>10.66</td>\n",
              "      <td>12.880</td>\n",
              "      <td>56</td>\n",
              "      <td>11.0014</td>\n",
              "      <td>2011</td>\n",
              "      <td>1</td>\n",
              "      <td>20</td>\n",
              "      <td>3</td>\n",
              "      <td>1</td>\n",
              "      <td>3</td>\n",
              "    </tr>\n",
              "    <tr>\n",
              "      <th>4</th>\n",
              "      <td>2011-01-20 04:00:00</td>\n",
              "      <td>1</td>\n",
              "      <td>0</td>\n",
              "      <td>1</td>\n",
              "      <td>1</td>\n",
              "      <td>10.66</td>\n",
              "      <td>12.880</td>\n",
              "      <td>56</td>\n",
              "      <td>11.0014</td>\n",
              "      <td>2011</td>\n",
              "      <td>1</td>\n",
              "      <td>20</td>\n",
              "      <td>3</td>\n",
              "      <td>1</td>\n",
              "      <td>4</td>\n",
              "    </tr>\n",
              "  </tbody>\n",
              "</table>\n",
              "</div>"
            ],
            "text/plain": [
              "             datetime  season  holiday  ...  dayofweek  quarter  hour\n",
              "0 2011-01-20 00:00:00       1        0  ...          3        1     0\n",
              "1 2011-01-20 01:00:00       1        0  ...          3        1     1\n",
              "2 2011-01-20 02:00:00       1        0  ...          3        1     2\n",
              "3 2011-01-20 03:00:00       1        0  ...          3        1     3\n",
              "4 2011-01-20 04:00:00       1        0  ...          3        1     4\n",
              "\n",
              "[5 rows x 15 columns]"
            ]
          },
          "metadata": {
            "tags": []
          },
          "execution_count": 40
        }
      ]
    },
    {
      "cell_type": "code",
      "metadata": {
        "colab": {
          "base_uri": "https://localhost:8080/"
        },
        "id": "Hw6fGMSznD_X",
        "outputId": "a8e718af-34a6-4f1d-b9ca-1faff47cdfaa"
      },
      "source": [
        "# weekend 컬럼을 생성(주말)\n",
        "# 주말인 경우 1, 주중인 경우 0\n",
        "# 요일(dayofweek)을 참고한다. dayofweek 0: 월요일, 6: 일요일\n",
        "# weekend 컬럼 상위 5개 출력\n",
        "# train 데이터셋\n",
        "train['weekend'] = train['dayofweek'].apply(lambda x: int(x in [5, 6]))\n",
        "train['weekend'].head()"
      ],
      "execution_count": null,
      "outputs": [
        {
          "output_type": "execute_result",
          "data": {
            "text/plain": [
              "0    1\n",
              "1    1\n",
              "2    1\n",
              "3    1\n",
              "4    1\n",
              "Name: weekend, dtype: int64"
            ]
          },
          "metadata": {
            "tags": []
          },
          "execution_count": 41
        }
      ]
    },
    {
      "cell_type": "code",
      "metadata": {
        "colab": {
          "base_uri": "https://localhost:8080/"
        },
        "id": "h5m2N8YLnD_X",
        "outputId": "a421990c-9caf-4fd4-fbaa-bdfa355b3814"
      },
      "source": [
        "# weekend 컬럼을 생성(주말)\n",
        "# 주말인 경우 1, 주중인 경우 0\n",
        "# 요일(dayofweek)을 참고한다. dayofweek 0: 월요일, 6: 일요일\n",
        "# weekend 컬럼 상위 5개 출력\n",
        "# test 데이터셋\n",
        "test['weekend'] = test['dayofweek'].apply(lambda x: int(x in [5, 6]))\n",
        "test['weekend'].head()"
      ],
      "execution_count": null,
      "outputs": [
        {
          "output_type": "execute_result",
          "data": {
            "text/plain": [
              "0    0\n",
              "1    0\n",
              "2    0\n",
              "3    0\n",
              "4    0\n",
              "Name: weekend, dtype: int64"
            ]
          },
          "metadata": {
            "tags": []
          },
          "execution_count": 42
        }
      ]
    },
    {
      "cell_type": "code",
      "metadata": {
        "colab": {
          "base_uri": "https://localhost:8080/"
        },
        "id": "Jfz0H3gfnD_X",
        "outputId": "fa175c83-91fd-4a4c-e236-477a06e994af"
      },
      "source": [
        "# 요일별 자전거 데이터 시각화(boxplot)\n",
        "# y컬럼: count\n",
        "# train 데이터셋\n",
        "sns.boxplot(x='dayofweek', y='count',data=train)\n",
        "plt.show()"
      ],
      "execution_count": null,
      "outputs": [
        {
          "output_type": "display_data",
          "data": {
            "image/png": "[encoded data removed]",
            "text/plain": [
              "<Figure size 432x288 with 1 Axes>"
            ]
          },
          "metadata": {
            "tags": [],
            "needs_background": "light"
          }
        }
      ]
    },
    {
      "cell_type": "code",
      "metadata": {
        "colab": {
          "base_uri": "https://localhost:8080/"
        },
        "id": "OI2tH-HMnD_Y",
        "outputId": "9b58e55f-93a2-439a-b452-2bef529527b6"
      },
      "source": [
        "# 2011년 / 2012 요일별 자전거 데이터 시각화(boxplot)\n",
        "# y컬럼: count\n",
        "# figure 사이즈는 (10, 8). 힌트) fig.set_size_inches(10, 8)\n",
        "# train 데이터셋\n",
        "fig, axes = plt.subplots(2, 1)\n",
        "fig.set_size_inches(10, 8)\n",
        "sns.boxplot(x='dayofweek', y='count',data=train.loc[train['year']==2011], ax=axes[0])\n",
        "sns.boxplot(x='dayofweek', y='count',data=train.loc[train['year']==2012], ax=axes[1])\n",
        "plt.show()"
      ],
      "execution_count": null,
      "outputs": [
        {
          "output_type": "display_data",
          "data": {
            "image/png": "[encoded data removed]",
            "text/plain": [
              "<Figure size 720x576 with 2 Axes>"
            ]
          },
          "metadata": {
            "tags": [],
            "needs_background": "light"
          }
        }
      ]
    },
    {
      "cell_type": "code",
      "metadata": {
        "colab": {
          "base_uri": "https://localhost:8080/"
        },
        "id": "2iX5OePLnD_Y",
        "outputId": "601aee78-0189-4f8d-a89c-e57b4a4d64f8"
      },
      "source": [
        "# 2011년 요일별 자전거 데이터 시각화(pointplot)\n",
        "# y컬럼: count, casual, registered\n",
        "# figure 사이즈는 (10, 8). 힌트) fig.set_size_inches(10, 8)\n",
        "# train 데이터셋\n",
        "fig, axes = plt.subplots(3, 1)\n",
        "fig.set_size_inches(10, 8)\n",
        "sns.lineplot(x='hour', y='count', data=train.loc[train['year']==2011], ax=axes[0])\n",
        "sns.lineplot(x='hour', y='casual',data=train.loc[train['year']==2011], ax=axes[1])\n",
        "sns.lineplot(x='hour', y='registered',data=train.loc[train['year']==2011], ax=axes[2])\n",
        "plt.show()"
      ],
      "execution_count": null,
      "outputs": [
        {
          "output_type": "display_data",
          "data": {
            "image/png": "[encoded data removed]",
            "text/plain": [
              "<Figure size 720x576 with 3 Axes>"
            ]
          },
          "metadata": {
            "tags": [],
            "needs_background": "light"
          }
        }
      ]
    },
    {
      "cell_type": "code",
      "metadata": {
        "colab": {
          "base_uri": "https://localhost:8080/"
        },
        "id": "FicYtCgWnD_Y",
        "outputId": "41868c47-704e-427b-8b4e-a111fcadbe53"
      },
      "source": [
        "# 2011년 요일별 자전거 데이터 시각화(pointplot)\n",
        "# y컬럼: count, casual, registered\n",
        "# train 데이터셋\n",
        "plt.figure(figsize=(10, 6))\n",
        "sns.pointplot(x='hour', y='count', hue='dayofweek', data=train.loc[train['year']==2011])\n",
        "plt.show()"
      ],
      "execution_count": null,
      "outputs": [
        {
          "output_type": "display_data",
          "data": {
            "image/png": "[encoded data removed]",
            "text/plain": [
              "<Figure size 720x432 with 1 Axes>"
            ]
          },
          "metadata": {
            "tags": [],
            "needs_background": "light"
          }
        }
      ]
    },
    {
      "cell_type": "code",
      "metadata": {
        "colab": {
          "base_uri": "https://localhost:8080/"
        },
        "id": "LD5_uGxFnD_Y",
        "outputId": "756c5c2c-0359-474b-8a00-d4f23bedc5b6"
      },
      "source": [
        "# 전체 요일별 자전거 데이터 시각화(pointplot)\n",
        "# y컬럼: count\n",
        "# train 데이터셋\n",
        "plt.figure(figsize=(10, 6))\n",
        "sns.pointplot(x='hour', y='count', hue='dayofweek', data=train)\n",
        "plt.show()"
      ],
      "execution_count": null,
      "outputs": [
        {
          "output_type": "display_data",
          "data": {
            "image/png": "[encoded data removed]",
            "text/plain": [
              "<Figure size 720x432 with 1 Axes>"
            ]
          },
          "metadata": {
            "tags": [],
            "needs_background": "light"
          }
        }
      ]
    },
    {
      "cell_type": "code",
      "metadata": {
        "colab": {
          "base_uri": "https://localhost:8080/"
        },
        "id": "W5hjIo-7nD_Y",
        "outputId": "bfba02c0-19eb-4d9f-b75e-081f12412690"
      },
      "source": [
        "# 전체 workingday별 자전거 데이터 시각화(pointplot)\n",
        "# y컬럼: count\n",
        "# train 데이터셋\n",
        "plt.figure(figsize=(10, 6))\n",
        "sns.pointplot(x='hour', y='count', hue='workingday', data=train)\n",
        "plt.show()"
      ],
      "execution_count": null,
      "outputs": [
        {
          "output_type": "display_data",
          "data": {
            "image/png": "[encoded data removed]",
            "text/plain": [
              "<Figure size 720x432 with 1 Axes>"
            ]
          },
          "metadata": {
            "tags": [],
            "needs_background": "light"
          }
        }
      ]
    },
    {
      "cell_type": "code",
      "metadata": {
        "colab": {
          "base_uri": "https://localhost:8080/"
        },
        "id": "QYuEG_EYnD_Y",
        "outputId": "48de60c1-e028-4a3e-cda4-6e34c2da6db0"
      },
      "source": [
        "# 전체 season별 자전거 데이터 시각화(pointplot)\n",
        "# y컬럼: count\n",
        "# train 데이터셋\n",
        "plt.figure(figsize=(10, 6))\n",
        "sns.pointplot(x='hour', y='count', hue='season', data=train)\n",
        "plt.show()"
      ],
      "execution_count": null,
      "outputs": [
        {
          "output_type": "display_data",
          "data": {
            "image/png": "[encoded data removed]",
            "text/plain": [
              "<Figure size 720x432 with 1 Axes>"
            ]
          },
          "metadata": {
            "tags": [],
            "needs_background": "light"
          }
        }
      ]
    },
    {
      "cell_type": "code",
      "metadata": {
        "colab": {
          "base_uri": "https://localhost:8080/"
        },
        "id": "dksxGQdXnD_Z",
        "outputId": "35ed6b2e-1e6e-4e67-fc1f-cf4ccc311dff"
      },
      "source": [
        "# 2011년 요일별 자전거 데이터 시각화(lineplot)\n",
        "# y컬럼: count, casual, registered\n",
        "# train 데이터셋\n",
        "plt.figure(figsize=(10, 6))\n",
        "sns.lineplot(x='hour', y='casual',data=train.loc[train['year']==2011], color='tomato', label='casual')\n",
        "sns.lineplot(x='hour', y='registered',data=train.loc[train['year']==2011], color='navy', label='registered')\n",
        "plt.title('2011 casual & registered')\n",
        "plt.legend()\n",
        "plt.show()"
      ],
      "execution_count": null,
      "outputs": [
        {
          "output_type": "display_data",
          "data": {
            "image/png": "[encoded data removed]",
            "text/plain": [
              "<Figure size 720x432 with 1 Axes>"
            ]
          },
          "metadata": {
            "tags": [],
            "needs_background": "light"
          }
        }
      ]
    },
    {
      "cell_type": "code",
      "metadata": {
        "colab": {
          "base_uri": "https://localhost:8080/"
        },
        "id": "P91AoqqvnD_Z",
        "outputId": "24a81008-5114-4f5a-bc51-9c6161f99b13"
      },
      "source": [
        "# 2012년 월(month)별 자전거 데이터 시각화(lineplot)\n",
        "# y컬럼: count, casual, registered\n",
        "# train 데이터셋\n",
        "plt.figure(figsize=(10, 6))\n",
        "sns.lineplot(x='month', y='casual',data=train.loc[train['year']==2012], color='tomato', label='casual')\n",
        "sns.lineplot(x='month', y='registered',data=train.loc[train['year']==2012], color='navy', label='registered')\n",
        "plt.title('2012 casual & registered')\n",
        "plt.legend()\n",
        "plt.show()"
      ],
      "execution_count": null,
      "outputs": [
        {
          "output_type": "display_data",
          "data": {
            "image/png": "[encoded data removed]",
            "text/plain": [
              "<Figure size 720x432 with 1 Axes>"
            ]
          },
          "metadata": {
            "tags": [],
            "needs_background": "light"
          }
        }
      ]
    },
    {
      "cell_type": "code",
      "metadata": {
        "id": "7NAZVfCynD_Z",
        "colab": {
          "base_uri": "https://localhost:8080/"
        },
        "outputId": "08ff104a-1256-4087-f5d0-3c8206f6797b"
      },
      "source": [
        "# temp, atemp, weather, count, casual, registered 의 상관관계 출력\n",
        "# train 데이터셋\n",
        "train[['temp', 'atemp', 'weather', 'count', 'casual', 'registered']].corr()"
      ],
      "execution_count": null,
      "outputs": [
        {
          "output_type": "execute_result",
          "data": {
            "text/html": [
              "<div>\n",
              "<style scoped>\n",
              "    .dataframe tbody tr th:only-of-type {\n",
              "        vertical-align: middle;\n",
              "    }\n",
              "\n",
              "    .dataframe tbody tr th {\n",
              "        vertical-align: top;\n",
              "    }\n",
              "\n",
              "    .dataframe thead th {\n",
              "        text-align: right;\n",
              "    }\n",
              "</style>\n",
              "<table border=\"1\" class=\"dataframe\">\n",
              "  <thead>\n",
              "    <tr style=\"text-align: right;\">\n",
              "      <th></th>\n",
              "      <th>temp</th>\n",
              "      <th>atemp</th>\n",
              "      <th>weather</th>\n",
              "      <th>count</th>\n",
              "      <th>casual</th>\n",
              "      <th>registered</th>\n",
              "    </tr>\n",
              "  </thead>\n",
              "  <tbody>\n",
              "    <tr>\n",
              "      <th>temp</th>\n",
              "      <td>1.000000</td>\n",
              "      <td>0.984948</td>\n",
              "      <td>-0.055035</td>\n",
              "      <td>0.394454</td>\n",
              "      <td>0.467097</td>\n",
              "      <td>0.318571</td>\n",
              "    </tr>\n",
              "    <tr>\n",
              "      <th>atemp</th>\n",
              "      <td>0.984948</td>\n",
              "      <td>1.000000</td>\n",
              "      <td>-0.055376</td>\n",
              "      <td>0.389784</td>\n",
              "      <td>0.462067</td>\n",
              "      <td>0.314635</td>\n",
              "    </tr>\n",
              "    <tr>\n",
              "      <th>weather</th>\n",
              "      <td>-0.055035</td>\n",
              "      <td>-0.055376</td>\n",
              "      <td>1.000000</td>\n",
              "      <td>-0.128655</td>\n",
              "      <td>-0.135918</td>\n",
              "      <td>-0.109340</td>\n",
              "    </tr>\n",
              "    <tr>\n",
              "      <th>count</th>\n",
              "      <td>0.394454</td>\n",
              "      <td>0.389784</td>\n",
              "      <td>-0.128655</td>\n",
              "      <td>1.000000</td>\n",
              "      <td>0.690414</td>\n",
              "      <td>0.970948</td>\n",
              "    </tr>\n",
              "    <tr>\n",
              "      <th>casual</th>\n",
              "      <td>0.467097</td>\n",
              "      <td>0.462067</td>\n",
              "      <td>-0.135918</td>\n",
              "      <td>0.690414</td>\n",
              "      <td>1.000000</td>\n",
              "      <td>0.497250</td>\n",
              "    </tr>\n",
              "    <tr>\n",
              "      <th>registered</th>\n",
              "      <td>0.318571</td>\n",
              "      <td>0.314635</td>\n",
              "      <td>-0.109340</td>\n",
              "      <td>0.970948</td>\n",
              "      <td>0.497250</td>\n",
              "      <td>1.000000</td>\n",
              "    </tr>\n",
              "  </tbody>\n",
              "</table>\n",
              "</div>"
            ],
            "text/plain": [
              "                temp     atemp   weather     count    casual  registered\n",
              "temp        1.000000  0.984948 -0.055035  0.394454  0.467097    0.318571\n",
              "atemp       0.984948  1.000000 -0.055376  0.389784  0.462067    0.314635\n",
              "weather    -0.055035 -0.055376  1.000000 -0.128655 -0.135918   -0.109340\n",
              "count       0.394454  0.389784 -0.128655  1.000000  0.690414    0.970948\n",
              "casual      0.467097  0.462067 -0.135918  0.690414  1.000000    0.497250\n",
              "registered  0.318571  0.314635 -0.109340  0.970948  0.497250    1.000000"
            ]
          },
          "metadata": {
            "tags": []
          },
          "execution_count": 52
        }
      ]
    },
    {
      "cell_type": "code",
      "metadata": {
        "id": "XQ7xgpnBnD_Z",
        "colab": {
          "base_uri": "https://localhost:8080/"
        },
        "outputId": "98334616-d55e-43fe-9e3f-ff2a12448f77"
      },
      "source": [
        "# train 데이터셋 모든 컬럼에 대한 상관관계 시각화(heatmap)\n",
        "# annot=True 옵션 적용\n",
        "# cmap='Greens'\n",
        "# train 데이터셋\n",
        "plt.figure(figsize=(12, 10))\n",
        "sns.heatmap(abs(train.corr()), annot=True, cmap='Greens')\n",
        "plt.show()"
      ],
      "execution_count": null,
      "outputs": [
        {
          "output_type": "display_data",
          "data": {
            "image/png": "[encoded data removed]",
            "text/plain": [
              "<Figure size 864x720 with 2 Axes>"
            ]
          },
          "metadata": {
            "tags": [],
            "needs_background": "light"
          }
        }
      ]
    },
    {
      "cell_type": "markdown",
      "metadata": {
        "id": "bFFnb2WTnD_Z"
      },
      "source": [
        "**다중공선성 문제(Multicollinearity)** 는 통계학의 회귀분석에서 **독립변수들 간에 강한 상관관계** 가 나타나는 문제이다. 적절한 회귀분석을 위해 해결해야 하는 문제가 된다.\n",
        "\n",
        "해결방법)\n",
        "\n",
        "- 상관관계가 높은 독립변수 중 하나 혹은 일부를 제거\n",
        "- 변수를 변환"
      ]
    },
    {
      "cell_type": "code",
      "metadata": {
        "id": "MiMSBpYUnD_Z"
      },
      "source": [
        "from sklearn.decomposition import PCA ##본인 유튜브에 PCA 개념 영상 보기(    )\n",
        "\n",
        "pca = PCA(n_components=1, random_state=123)\n",
        "train_temp = pca.fit_transform(train[['temp', 'atemp']])\n",
        "test_temp = pca.transform(test[['temp', 'atemp']])\n",
        "\n",
        "# 검증코드 (아래 코드는 수정하지 않습니다.)\n",
        "# Cell을 실행시 에러가 발생하면 안됩니다.\n",
        "assert train_temp[10].round(3) == 6.063\n",
        "assert test_temp[10].round(3) == 15.526"
      ],
      "execution_count": null,
      "outputs": []
    },
    {
      "cell_type": "code",
      "metadata": {
        "id": "h7pbe59inD_Z"
      },
      "source": [
        "# temp, atemp 컬럼을 제거한 후 'temp_pca' 컬럼을 생성하여 train_temp, test_temp를 대입합니다.\n",
        "# train, test 데이터셋 모두 적용\n",
        "train = train.drop(['temp', 'atemp'], axis=1)\n",
        "test = test.drop(['temp', 'atemp'], axis=1)\n",
        "\n",
        "train['temp_pca'] = train_temp\n",
        "test['temp_pca'] = test_temp"
      ],
      "execution_count": null,
      "outputs": []
    },
    {
      "cell_type": "code",
      "metadata": {
        "id": "kbQ0fpa2nD_a",
        "colab": {
          "base_uri": "https://localhost:8080/"
        },
        "outputId": "ffcd5e73-41c2-426a-cb8d-6566af65ccbc"
      },
      "source": [
        "train.head()"
      ],
      "execution_count": null,
      "outputs": [
        {
          "output_type": "execute_result",
          "data": {
            "text/html": [
              "<div>\n",
              "<style scoped>\n",
              "    .dataframe tbody tr th:only-of-type {\n",
              "        vertical-align: middle;\n",
              "    }\n",
              "\n",
              "    .dataframe tbody tr th {\n",
              "        vertical-align: top;\n",
              "    }\n",
              "\n",
              "    .dataframe thead th {\n",
              "        text-align: right;\n",
              "    }\n",
              "</style>\n",
              "<table border=\"1\" class=\"dataframe\">\n",
              "  <thead>\n",
              "    <tr style=\"text-align: right;\">\n",
              "      <th></th>\n",
              "      <th>datetime</th>\n",
              "      <th>season</th>\n",
              "      <th>holiday</th>\n",
              "      <th>workingday</th>\n",
              "      <th>weather</th>\n",
              "      <th>humidity</th>\n",
              "      <th>windspeed</th>\n",
              "      <th>casual</th>\n",
              "      <th>registered</th>\n",
              "      <th>count</th>\n",
              "      <th>year</th>\n",
              "      <th>month</th>\n",
              "      <th>day</th>\n",
              "      <th>dayofweek</th>\n",
              "      <th>quarter</th>\n",
              "      <th>hour</th>\n",
              "      <th>weekend</th>\n",
              "      <th>temp_pca</th>\n",
              "    </tr>\n",
              "  </thead>\n",
              "  <tbody>\n",
              "    <tr>\n",
              "      <th>0</th>\n",
              "      <td>2011-01-01 00:00:00</td>\n",
              "      <td>1</td>\n",
              "      <td>0</td>\n",
              "      <td>0</td>\n",
              "      <td>1</td>\n",
              "      <td>81</td>\n",
              "      <td>0.0</td>\n",
              "      <td>3</td>\n",
              "      <td>13</td>\n",
              "      <td>16</td>\n",
              "      <td>2011</td>\n",
              "      <td>1</td>\n",
              "      <td>1</td>\n",
              "      <td>5</td>\n",
              "      <td>1</td>\n",
              "      <td>0</td>\n",
              "      <td>1</td>\n",
              "      <td>13.848653</td>\n",
              "    </tr>\n",
              "    <tr>\n",
              "      <th>1</th>\n",
              "      <td>2011-01-01 01:00:00</td>\n",
              "      <td>1</td>\n",
              "      <td>0</td>\n",
              "      <td>0</td>\n",
              "      <td>1</td>\n",
              "      <td>80</td>\n",
              "      <td>0.0</td>\n",
              "      <td>8</td>\n",
              "      <td>32</td>\n",
              "      <td>40</td>\n",
              "      <td>2011</td>\n",
              "      <td>1</td>\n",
              "      <td>1</td>\n",
              "      <td>5</td>\n",
              "      <td>1</td>\n",
              "      <td>1</td>\n",
              "      <td>1</td>\n",
              "      <td>14.963061</td>\n",
              "    </tr>\n",
              "    <tr>\n",
              "      <th>2</th>\n",
              "      <td>2011-01-01 02:00:00</td>\n",
              "      <td>1</td>\n",
              "      <td>0</td>\n",
              "      <td>0</td>\n",
              "      <td>1</td>\n",
              "      <td>80</td>\n",
              "      <td>0.0</td>\n",
              "      <td>5</td>\n",
              "      <td>27</td>\n",
              "      <td>32</td>\n",
              "      <td>2011</td>\n",
              "      <td>1</td>\n",
              "      <td>1</td>\n",
              "      <td>5</td>\n",
              "      <td>1</td>\n",
              "      <td>2</td>\n",
              "      <td>1</td>\n",
              "      <td>14.963061</td>\n",
              "    </tr>\n",
              "    <tr>\n",
              "      <th>3</th>\n",
              "      <td>2011-01-01 03:00:00</td>\n",
              "      <td>1</td>\n",
              "      <td>0</td>\n",
              "      <td>0</td>\n",
              "      <td>1</td>\n",
              "      <td>75</td>\n",
              "      <td>0.0</td>\n",
              "      <td>3</td>\n",
              "      <td>10</td>\n",
              "      <td>13</td>\n",
              "      <td>2011</td>\n",
              "      <td>1</td>\n",
              "      <td>1</td>\n",
              "      <td>5</td>\n",
              "      <td>1</td>\n",
              "      <td>3</td>\n",
              "      <td>1</td>\n",
              "      <td>13.848653</td>\n",
              "    </tr>\n",
              "    <tr>\n",
              "      <th>4</th>\n",
              "      <td>2011-01-01 04:00:00</td>\n",
              "      <td>1</td>\n",
              "      <td>0</td>\n",
              "      <td>0</td>\n",
              "      <td>1</td>\n",
              "      <td>75</td>\n",
              "      <td>0.0</td>\n",
              "      <td>0</td>\n",
              "      <td>1</td>\n",
              "      <td>1</td>\n",
              "      <td>2011</td>\n",
              "      <td>1</td>\n",
              "      <td>1</td>\n",
              "      <td>5</td>\n",
              "      <td>1</td>\n",
              "      <td>4</td>\n",
              "      <td>1</td>\n",
              "      <td>13.848653</td>\n",
              "    </tr>\n",
              "  </tbody>\n",
              "</table>\n",
              "</div>"
            ],
            "text/plain": [
              "             datetime  season  holiday  ...  hour  weekend   temp_pca\n",
              "0 2011-01-01 00:00:00       1        0  ...     0        1  13.848653\n",
              "1 2011-01-01 01:00:00       1        0  ...     1        1  14.963061\n",
              "2 2011-01-01 02:00:00       1        0  ...     2        1  14.963061\n",
              "3 2011-01-01 03:00:00       1        0  ...     3        1  13.848653\n",
              "4 2011-01-01 04:00:00       1        0  ...     4        1  13.848653\n",
              "\n",
              "[5 rows x 18 columns]"
            ]
          },
          "metadata": {
            "tags": []
          },
          "execution_count": 56
        }
      ]
    },
    {
      "cell_type": "code",
      "metadata": {
        "id": "EyR6D2MwnD_a"
      },
      "source": [
        "# 검증코드 (아래 코드는 수정하지 않습니다.)\n",
        "# Cell을 실행시 에러가 발생하면 안됩니다.\n",
        "assert train.shape == (10886, 18)\n",
        "assert test.shape == (6493, 15)"
      ],
      "execution_count": null,
      "outputs": []
    },
    {
      "cell_type": "code",
      "metadata": {
        "id": "iVedjQ8_nD_a",
        "colab": {
          "base_uri": "https://localhost:8080/"
        },
        "outputId": "778d150a-2151-46c8-f549-cf3abfcbde11"
      },
      "source": [
        "# count 컬럼에 대한 상관관계 출력 (내림차순 정렬)\n",
        "# 상관계수 절대값 (abs)\n",
        "# train 데이터셋\n",
        "pd.DataFrame(abs(train.corr())['count'].sort_values(ascending=False))"
      ],
      "execution_count": null,
      "outputs": [
        {
          "output_type": "execute_result",
          "data": {
            "text/html": [
              "<div>\n",
              "<style scoped>\n",
              "    .dataframe tbody tr th:only-of-type {\n",
              "        vertical-align: middle;\n",
              "    }\n",
              "\n",
              "    .dataframe tbody tr th {\n",
              "        vertical-align: top;\n",
              "    }\n",
              "\n",
              "    .dataframe thead th {\n",
              "        text-align: right;\n",
              "    }\n",
              "</style>\n",
              "<table border=\"1\" class=\"dataframe\">\n",
              "  <thead>\n",
              "    <tr style=\"text-align: right;\">\n",
              "      <th></th>\n",
              "      <th>count</th>\n",
              "    </tr>\n",
              "  </thead>\n",
              "  <tbody>\n",
              "    <tr>\n",
              "      <th>count</th>\n",
              "      <td>1.000000</td>\n",
              "    </tr>\n",
              "    <tr>\n",
              "      <th>registered</th>\n",
              "      <td>0.970948</td>\n",
              "    </tr>\n",
              "    <tr>\n",
              "      <th>casual</th>\n",
              "      <td>0.690414</td>\n",
              "    </tr>\n",
              "    <tr>\n",
              "      <th>hour</th>\n",
              "      <td>0.400601</td>\n",
              "    </tr>\n",
              "    <tr>\n",
              "      <th>temp_pca</th>\n",
              "      <td>0.393394</td>\n",
              "    </tr>\n",
              "    <tr>\n",
              "      <th>humidity</th>\n",
              "      <td>0.317371</td>\n",
              "    </tr>\n",
              "    <tr>\n",
              "      <th>year</th>\n",
              "      <td>0.260403</td>\n",
              "    </tr>\n",
              "    <tr>\n",
              "      <th>month</th>\n",
              "      <td>0.166862</td>\n",
              "    </tr>\n",
              "    <tr>\n",
              "      <th>quarter</th>\n",
              "      <td>0.163439</td>\n",
              "    </tr>\n",
              "    <tr>\n",
              "      <th>season</th>\n",
              "      <td>0.163439</td>\n",
              "    </tr>\n",
              "    <tr>\n",
              "      <th>weather</th>\n",
              "      <td>0.128655</td>\n",
              "    </tr>\n",
              "    <tr>\n",
              "      <th>windspeed</th>\n",
              "      <td>0.101369</td>\n",
              "    </tr>\n",
              "    <tr>\n",
              "      <th>day</th>\n",
              "      <td>0.019826</td>\n",
              "    </tr>\n",
              "    <tr>\n",
              "      <th>workingday</th>\n",
              "      <td>0.011594</td>\n",
              "    </tr>\n",
              "    <tr>\n",
              "      <th>weekend</th>\n",
              "      <td>0.009925</td>\n",
              "    </tr>\n",
              "    <tr>\n",
              "      <th>holiday</th>\n",
              "      <td>0.005393</td>\n",
              "    </tr>\n",
              "    <tr>\n",
              "      <th>dayofweek</th>\n",
              "      <td>0.002283</td>\n",
              "    </tr>\n",
              "  </tbody>\n",
              "</table>\n",
              "</div>"
            ],
            "text/plain": [
              "               count\n",
              "count       1.000000\n",
              "registered  0.970948\n",
              "casual      0.690414\n",
              "hour        0.400601\n",
              "temp_pca    0.393394\n",
              "humidity    0.317371\n",
              "year        0.260403\n",
              "month       0.166862\n",
              "quarter     0.163439\n",
              "season      0.163439\n",
              "weather     0.128655\n",
              "windspeed   0.101369\n",
              "day         0.019826\n",
              "workingday  0.011594\n",
              "weekend     0.009925\n",
              "holiday     0.005393\n",
              "dayofweek   0.002283"
            ]
          },
          "metadata": {
            "tags": []
          },
          "execution_count": 58
        }
      ]
    },
    {
      "cell_type": "code",
      "metadata": {
        "id": "4onwcRianD_a",
        "colab": {
          "base_uri": "https://localhost:8080/"
        },
        "outputId": "dc6a2908-fea0-49dd-cf24-7afeaca93543"
      },
      "source": [
        "# casual 컬럼에 대한 상관관계 출력 (dataframe - barh)\n",
        "# 상관계수 절대값 (abs)\n",
        "# train 데이터셋\n",
        "pd.DataFrame(abs(train.corr())['casual'].sort_values(ascending=True)).plot(kind='barh', figsize=(8, 6))\n",
        "# plt.show()"
      ],
      "execution_count": null,
      "outputs": [
        {
          "output_type": "execute_result",
          "data": {
            "text/plain": [
              "<matplotlib.axes._subplots.AxesSubplot at 0x7f57d810fb90>"
            ]
          },
          "metadata": {
            "tags": []
          },
          "execution_count": 59
        },
        {
          "output_type": "display_data",
          "data": {
            "image/png": "[encoded data removed]",
            "text/plain": [
              "<Figure size 576x432 with 1 Axes>"
            ]
          },
          "metadata": {
            "tags": [],
            "needs_background": "light"
          }
        }
      ]
    },
    {
      "cell_type": "markdown",
      "metadata": {
        "id": "WzJCq-tBnD_a"
      },
      "source": [
        "## Feature(컬럼) 선택"
      ]
    },
    {
      "cell_type": "code",
      "metadata": {
        "id": "4F1dJu_GnD_a",
        "colab": {
          "base_uri": "https://localhost:8080/"
        },
        "outputId": "d6a7b9d7-75b0-4d2b-c126-bdbfaae2bb34"
      },
      "source": [
        "test.columns"
      ],
      "execution_count": null,
      "outputs": [
        {
          "output_type": "execute_result",
          "data": {
            "text/plain": [
              "Index(['datetime', 'season', 'holiday', 'workingday', 'weather', 'humidity',\n",
              "       'windspeed', 'year', 'month', 'day', 'dayofweek', 'quarter', 'hour',\n",
              "       'weekend', 'temp_pca'],\n",
              "      dtype='object')"
            ]
          },
          "metadata": {
            "tags": []
          },
          "execution_count": 60
        }
      ]
    },
    {
      "cell_type": "markdown",
      "metadata": {
        "id": "k4WocqjxnD_a"
      },
      "source": [
        "분석을 토대로 머신러닝 알고리즘에 입력할 feature(컬럼)를 선택합니다."
      ]
    },
    {
      "cell_type": "code",
      "metadata": {
        "id": "TpDen6PenD_a"
      },
      "source": [
        "# 본인의 판단에 따라 훈련에 사용할 feature와 사용하지 않을 feature를 선택합니다.\n",
        "features = [\n",
        "    # 사용하지 않을 feature는 주석 처리합니다.\n",
        "    'season', \n",
        "    'holiday',\n",
        "    'workingday', \n",
        "    'weather', \n",
        "    'humidity', \n",
        "#     'windspeed',\n",
        "    'temp_pca',\n",
        "    'year', \n",
        "    'month', \n",
        "#     'day', \n",
        "    'dayofweek', \n",
        "    'quarter', \n",
        "    'hour', \n",
        "]"
      ],
      "execution_count": null,
      "outputs": []
    },
    {
      "cell_type": "markdown",
      "metadata": {
        "id": "cNAHkfUlnD_b"
      },
      "source": [
        "## Label(Y값)"
      ]
    },
    {
      "cell_type": "code",
      "metadata": {
        "id": "OsW4z37AnD_b",
        "colab": {
          "base_uri": "https://localhost:8080/"
        },
        "outputId": "e67396e3-3e60-45a3-e090-fda1d6348be4"
      },
      "source": [
        "# count 값을 Y값으로 설정한다.\n",
        "train['count']"
      ],
      "execution_count": null,
      "outputs": [
        {
          "output_type": "execute_result",
          "data": {
            "text/plain": [
              "0         16\n",
              "1         40\n",
              "2         32\n",
              "3         13\n",
              "4          1\n",
              "        ... \n",
              "10881    336\n",
              "10882    241\n",
              "10883    168\n",
              "10884    129\n",
              "10885     88\n",
              "Name: count, Length: 10886, dtype: int64"
            ]
          },
          "metadata": {
            "tags": []
          },
          "execution_count": 62
        }
      ]
    },
    {
      "cell_type": "markdown",
      "metadata": {
        "id": "vSQnCzO4nD_b"
      },
      "source": [
        "## 훈련(Train) / 검증(Validation) 세트 분할"
      ]
    },
    {
      "cell_type": "markdown",
      "metadata": {
        "id": "-XI_H1vMnD_b"
      },
      "source": [
        "- random_state=123\n",
        "- test_size=0.2"
      ]
    },
    {
      "cell_type": "code",
      "metadata": {
        "id": "iEMrkQeenD_c"
      },
      "source": [
        "from sklearn.model_selection import train_test_split"
      ],
      "execution_count": null,
      "outputs": []
    },
    {
      "cell_type": "code",
      "metadata": {
        "id": "Of0mzNzwnD_c"
      },
      "source": [
        "# x에는 정의한 train[features], y에는 'count', random_state=123, test_size=0.2\n",
        "x_train, x_test, y_train, y_test = train_test_split(train[features], train['count'], test_size=0.2, random_state=123)\n",
        "\n",
        "# 검증코드 (아래 코드는 수정하지 않습니다.)\n",
        "# Cell을 실행시 에러가 발생하면 안됩니다.\n",
        "assert x_train.shape[0] == 8708\n",
        "assert x_test.shape[0] == 2178"
      ],
      "execution_count": null,
      "outputs": []
    },
    {
      "cell_type": "markdown",
      "metadata": {
        "id": "3WHd9G0fnD_c"
      },
      "source": [
        "## 모델 정의"
      ]
    },
    {
      "cell_type": "code",
      "metadata": {
        "id": "OHV7fP28nD_c"
      },
      "source": [
        "from sklearn.ensemble import RandomForestRegressor"
      ],
      "execution_count": null,
      "outputs": []
    },
    {
      "cell_type": "code",
      "metadata": {
        "id": "aj2k7hWbnD_c",
        "colab": {
          "base_uri": "https://localhost:8080/"
        },
        "outputId": "b4c44fb5-9433-4b22-b544-a8841736ac4b"
      },
      "source": [
        "# random_state=123\n",
        "rfc = RandomForestRegressor(random_state=123)\n",
        "rfc.fit(x_train, y_train)"
      ],
      "execution_count": null,
      "outputs": [
        {
          "output_type": "execute_result",
          "data": {
            "text/plain": [
              "RandomForestRegressor(bootstrap=True, ccp_alpha=0.0, criterion='mse',\n",
              "                      max_depth=None, max_features='auto', max_leaf_nodes=None,\n",
              "                      max_samples=None, min_impurity_decrease=0.0,\n",
              "                      min_impurity_split=None, min_samples_leaf=1,\n",
              "                      min_samples_split=2, min_weight_fraction_leaf=0.0,\n",
              "                      n_estimators=100, n_jobs=None, oob_score=False,\n",
              "                      random_state=123, verbose=0, warm_start=False)"
            ]
          },
          "metadata": {
            "tags": []
          },
          "execution_count": 66
        }
      ]
    },
    {
      "cell_type": "code",
      "metadata": {
        "id": "V-cF7qminD_c"
      },
      "source": [
        "# x_test에 대한 예측\n",
        "# 결과 값은 pred 변수에 저장\n",
        "pred = rfc.predict(x_test)"
      ],
      "execution_count": null,
      "outputs": []
    },
    {
      "cell_type": "markdown",
      "metadata": {
        "id": "cRS5GSn-nD_c"
      },
      "source": [
        "## 평가지표 & 검증 (Evaluation)"
      ]
    },
    {
      "cell_type": "code",
      "metadata": {
        "id": "_yzW-llQnD_c"
      },
      "source": [
        "# Root Mean Squared Error 구현\n",
        "# np.log1p를 y_true, y_pred에 취한 후\n",
        "# mean_squared_error 지표에 루트를 씌운다.\n",
        "# 힌트) np.sqrt, np.log\n",
        "from sklearn.metrics import mean_squared_error\n",
        "\n",
        "def RMSLE(y_true, y_pred):\n",
        "    return np.sqrt(mean_squared_error(np.log1p(y_true), np.log1p(y_pred)))\n",
        "\n",
        "# 검증코드 (아래 코드는 수정하지 않습니다.)\n",
        "# Cell을 실행시 에러가 발생하면 안됩니다.\n",
        "assert RMSLE(np.array([10]), np.array([11])).round(3) == 0.087"
      ],
      "execution_count": null,
      "outputs": []
    },
    {
      "cell_type": "code",
      "metadata": {
        "id": "4ItIPrvknD_d",
        "colab": {
          "base_uri": "https://localhost:8080/"
        },
        "outputId": "a030b499-bf65-42c4-b954-6aa1b77df302"
      },
      "source": [
        "# y_test와 pred 사이의 RMSLE 결과 확인 \n",
        "# 평가지표 결과 출력\n",
        "RMSLE(y_test, pred)"
      ],
      "execution_count": null,
      "outputs": [
        {
          "output_type": "execute_result",
          "data": {
            "text/plain": [
              "0.3241436454950962"
            ]
          },
          "metadata": {
            "tags": []
          },
          "execution_count": 69
        }
      ]
    },
    {
      "cell_type": "code",
      "metadata": {
        "id": "u3rT1UJrnD_d",
        "colab": {
          "base_uri": "https://localhost:8080/"
        },
        "outputId": "2ee2e9ec-fc21-4277-edd7-eef37759d89e"
      },
      "source": [
        "# 실제 값과 예측 값 비교\n",
        "fig, axes = plt.subplots(1, 2)\n",
        "fig.set_size_inches(12, 6)\n",
        "\n",
        "sns.histplot(y_test, ax=axes[0])\n",
        "sns.histplot(pred, ax=axes[1])\n",
        "\n",
        "axes[0].set_title('Actual')\n",
        "axes[1].set_title('Prediction')\n",
        "\n",
        "plt.show()"
      ],
      "execution_count": null,
      "outputs": [
        {
          "output_type": "display_data",
          "data": {
            "image/png": "[encoded data removed]",
            "text/plain": [
              "<Figure size 864x432 with 2 Axes>"
            ]
          },
          "metadata": {
            "tags": [],
            "needs_background": "light"
          }
        }
      ]
    },
    {
      "cell_type": "markdown",
      "metadata": {
        "id": "I7USsJlpnD_d"
      },
      "source": [
        "## 튜닝"
      ]
    },
    {
      "cell_type": "code",
      "metadata": {
        "id": "AV5P66lVnD_d",
        "colab": {
          "base_uri": "https://localhost:8080/"
        },
        "outputId": "0b5498e3-a31c-45cd-d93e-297559688137"
      },
      "source": [
        "%env LOKY_PICKLER='cloudpickle'"
      ],
      "execution_count": null,
      "outputs": [
        {
          "output_type": "stream",
          "text": [
            "env: LOKY_PICKLER='cloudpickle'\n"
          ],
          "name": "stdout"
        }
      ]
    },
    {
      "cell_type": "code",
      "metadata": {
        "id": "-BVTDV00nD_d"
      },
      "source": [
        "import multiprocessing"
      ],
      "execution_count": null,
      "outputs": []
    },
    {
      "cell_type": "code",
      "metadata": {
        "id": "jtdfEARPnD_e"
      },
      "source": [
        "multiprocessing.set_start_method('forkserver', force=True)"
      ],
      "execution_count": null,
      "outputs": []
    },
    {
      "cell_type": "code",
      "metadata": {
        "id": "ADEPG1cqnD_e"
      },
      "source": [
        "from sklearn.utils import parallel_backend"
      ],
      "execution_count": null,
      "outputs": []
    },
    {
      "cell_type": "code",
      "metadata": {
        "id": "Y9REL2htnD_e"
      },
      "source": [
        "# Hyper Parameter 튜닝\n",
        "params = {\n",
        "    'n_estimators': [200, 300, 500], \n",
        "    'max_depth': [5, 10, None], \n",
        "    'random_state': [123],\n",
        "}\n",
        "\n",
        "from sklearn.model_selection import GridSearchCV\n",
        "\n",
        "with parallel_backend('threading'):\n",
        "    grid_search = GridSearchCV(RandomForestRegressor(), params, cv=3, scoring='neg_mean_squared_error', n_jobs=-1)\n",
        "    grid_search.fit(x_train, y_train)\n",
        "    grid_search.best_params_"
      ],
      "execution_count": null,
      "outputs": []
    },
    {
      "cell_type": "code",
      "metadata": {
        "id": "xi-tv2ZInD_e",
        "colab": {
          "base_uri": "https://localhost:8080/"
        },
        "outputId": "641d22dc-4c0a-484b-93e2-b75f15b43e71"
      },
      "source": [
        "# 튜닝한 값 적용\n",
        "rfc = RandomForestRegressor(**grid_search.best_params_)\n",
        "\n",
        "rfc.fit(x_train, y_train)"
      ],
      "execution_count": null,
      "outputs": [
        {
          "output_type": "execute_result",
          "data": {
            "text/plain": [
              "RandomForestRegressor(bootstrap=True, ccp_alpha=0.0, criterion='mse',\n",
              "                      max_depth=None, max_features='auto', max_leaf_nodes=None,\n",
              "                      max_samples=None, min_impurity_decrease=0.0,\n",
              "                      min_impurity_split=None, min_samples_leaf=1,\n",
              "                      min_samples_split=2, min_weight_fraction_leaf=0.0,\n",
              "                      n_estimators=500, n_jobs=None, oob_score=False,\n",
              "                      random_state=123, verbose=0, warm_start=False)"
            ]
          },
          "metadata": {
            "tags": []
          },
          "execution_count": 76
        }
      ]
    },
    {
      "cell_type": "markdown",
      "metadata": {
        "id": "So4Zo4SXnD_e"
      },
      "source": [
        "## 예측 (Predict)"
      ]
    },
    {
      "cell_type": "code",
      "metadata": {
        "id": "BVAfR8A5nD_e"
      },
      "source": [
        "# test 데이터셋에 대한 예측\n",
        "pred = rfc.predict(test[features])\n",
        "\n",
        "# 검증코드 (아래 코드는 수정하지 않습니다.)\n",
        "# Cell을 실행시 에러가 발생하면 안됩니다.\n",
        "assert pred.shape[0] == 6493"
      ],
      "execution_count": null,
      "outputs": []
    },
    {
      "cell_type": "markdown",
      "metadata": {
        "id": "pgkQi763nD_e"
      },
      "source": [
        "## 제출"
      ]
    },
    {
      "cell_type": "code",
      "metadata": {
        "id": "5Fc1C2bNnD_f",
        "colab": {
          "base_uri": "https://localhost:8080/",
          "height": 433
        },
        "outputId": "2f198202-f70c-4aee-f25a-212f81e5dc29"
      },
      "source": [
        "# final_prediction 변수에 결과 값을 대입합니다.\n",
        "final_prediction = pred\n",
        "\n",
        "def make_submission(filename_prefix, pred):\n",
        "    submission = pd.read_csv('data/sampleSubmission.csv')\n",
        "    submission['count'] = pred\n",
        "    timestring = datetime.datetime.now().strftime('%H-%M-%S')\n",
        "    filename = '{}-{}.csv'.format(filename_prefix, timestring)\n",
        "    submission.to_csv(filename, index=False)\n",
        "    print('파일을 저장하였습니다. 파일명: {}'.format(filename))\n",
        "    df = pd.read_csv(filename)\n",
        "    return df\n",
        "\n",
        "# 파일 저장\n",
        "make_submission('V01-random-forest', final_prediction)"
      ],
      "execution_count": null,
      "outputs": [
        {
          "output_type": "error",
          "ename": "FileNotFoundError",
          "evalue": "ignored",
          "traceback": [
            "\u001b[0;31m---------------------------------------------------------------------------\u001b[0m",
            "\u001b[0;31mFileNotFoundError\u001b[0m                         Traceback (most recent call last)",
            "\u001b[0;32m<ipython-input-78-c031fc95d699>\u001b[0m in \u001b[0;36m<module>\u001b[0;34m()\u001b[0m\n\u001b[1;32m     13\u001b[0m \u001b[0;34m\u001b[0m\u001b[0m\n\u001b[1;32m     14\u001b[0m \u001b[0;31m# 파일 저장\u001b[0m\u001b[0;34m\u001b[0m\u001b[0;34m\u001b[0m\u001b[0;34m\u001b[0m\u001b[0m\n\u001b[0;32m---> 15\u001b[0;31m \u001b[0mmake_submission\u001b[0m\u001b[0;34m(\u001b[0m\u001b[0;34m'V01-random-forest'\u001b[0m\u001b[0;34m,\u001b[0m \u001b[0mfinal_prediction\u001b[0m\u001b[0;34m)\u001b[0m\u001b[0;34m\u001b[0m\u001b[0;34m\u001b[0m\u001b[0m\n\u001b[0m",
            "\u001b[0;32m<ipython-input-78-c031fc95d699>\u001b[0m in \u001b[0;36mmake_submission\u001b[0;34m(filename_prefix, pred)\u001b[0m\n\u001b[1;32m      3\u001b[0m \u001b[0;34m\u001b[0m\u001b[0m\n\u001b[1;32m      4\u001b[0m \u001b[0;32mdef\u001b[0m \u001b[0mmake_submission\u001b[0m\u001b[0;34m(\u001b[0m\u001b[0mfilename_prefix\u001b[0m\u001b[0;34m,\u001b[0m \u001b[0mpred\u001b[0m\u001b[0;34m)\u001b[0m\u001b[0;34m:\u001b[0m\u001b[0;34m\u001b[0m\u001b[0;34m\u001b[0m\u001b[0m\n\u001b[0;32m----> 5\u001b[0;31m     \u001b[0msubmission\u001b[0m \u001b[0;34m=\u001b[0m \u001b[0mpd\u001b[0m\u001b[0;34m.\u001b[0m\u001b[0mread_csv\u001b[0m\u001b[0;34m(\u001b[0m\u001b[0;34m'data/sampleSubmission.csv'\u001b[0m\u001b[0;34m)\u001b[0m\u001b[0;34m\u001b[0m\u001b[0;34m\u001b[0m\u001b[0m\n\u001b[0m\u001b[1;32m      6\u001b[0m     \u001b[0msubmission\u001b[0m\u001b[0;34m[\u001b[0m\u001b[0;34m'count'\u001b[0m\u001b[0;34m]\u001b[0m \u001b[0;34m=\u001b[0m \u001b[0mpred\u001b[0m\u001b[0;34m\u001b[0m\u001b[0;34m\u001b[0m\u001b[0m\n\u001b[1;32m      7\u001b[0m     \u001b[0mtimestring\u001b[0m \u001b[0;34m=\u001b[0m \u001b[0mdatetime\u001b[0m\u001b[0;34m.\u001b[0m\u001b[0mdatetime\u001b[0m\u001b[0;34m.\u001b[0m\u001b[0mnow\u001b[0m\u001b[0;34m(\u001b[0m\u001b[0;34m)\u001b[0m\u001b[0;34m.\u001b[0m\u001b[0mstrftime\u001b[0m\u001b[0;34m(\u001b[0m\u001b[0;34m'%H-%M-%S'\u001b[0m\u001b[0;34m)\u001b[0m\u001b[0;34m\u001b[0m\u001b[0;34m\u001b[0m\u001b[0m\n",
            "\u001b[0;32m/usr/local/lib/python3.7/dist-packages/pandas/io/parsers.py\u001b[0m in \u001b[0;36mread_csv\u001b[0;34m(filepath_or_buffer, sep, delimiter, header, names, index_col, usecols, squeeze, prefix, mangle_dupe_cols, dtype, engine, converters, true_values, false_values, skipinitialspace, skiprows, skipfooter, nrows, na_values, keep_default_na, na_filter, verbose, skip_blank_lines, parse_dates, infer_datetime_format, keep_date_col, date_parser, dayfirst, cache_dates, iterator, chunksize, compression, thousands, decimal, lineterminator, quotechar, quoting, doublequote, escapechar, comment, encoding, dialect, error_bad_lines, warn_bad_lines, delim_whitespace, low_memory, memory_map, float_precision)\u001b[0m\n\u001b[1;32m    686\u001b[0m     )\n\u001b[1;32m    687\u001b[0m \u001b[0;34m\u001b[0m\u001b[0m\n\u001b[0;32m--> 688\u001b[0;31m     \u001b[0;32mreturn\u001b[0m \u001b[0m_read\u001b[0m\u001b[0;34m(\u001b[0m\u001b[0mfilepath_or_buffer\u001b[0m\u001b[0;34m,\u001b[0m \u001b[0mkwds\u001b[0m\u001b[0;34m)\u001b[0m\u001b[0;34m\u001b[0m\u001b[0;34m\u001b[0m\u001b[0m\n\u001b[0m\u001b[1;32m    689\u001b[0m \u001b[0;34m\u001b[0m\u001b[0m\n\u001b[1;32m    690\u001b[0m \u001b[0;34m\u001b[0m\u001b[0m\n",
            "\u001b[0;32m/usr/local/lib/python3.7/dist-packages/pandas/io/parsers.py\u001b[0m in \u001b[0;36m_read\u001b[0;34m(filepath_or_buffer, kwds)\u001b[0m\n\u001b[1;32m    452\u001b[0m \u001b[0;34m\u001b[0m\u001b[0m\n\u001b[1;32m    453\u001b[0m     \u001b[0;31m# Create the parser.\u001b[0m\u001b[0;34m\u001b[0m\u001b[0;34m\u001b[0m\u001b[0;34m\u001b[0m\u001b[0m\n\u001b[0;32m--> 454\u001b[0;31m     \u001b[0mparser\u001b[0m \u001b[0;34m=\u001b[0m \u001b[0mTextFileReader\u001b[0m\u001b[0;34m(\u001b[0m\u001b[0mfp_or_buf\u001b[0m\u001b[0;34m,\u001b[0m \u001b[0;34m**\u001b[0m\u001b[0mkwds\u001b[0m\u001b[0;34m)\u001b[0m\u001b[0;34m\u001b[0m\u001b[0;34m\u001b[0m\u001b[0m\n\u001b[0m\u001b[1;32m    455\u001b[0m \u001b[0;34m\u001b[0m\u001b[0m\n\u001b[1;32m    456\u001b[0m     \u001b[0;32mif\u001b[0m \u001b[0mchunksize\u001b[0m \u001b[0;32mor\u001b[0m \u001b[0miterator\u001b[0m\u001b[0;34m:\u001b[0m\u001b[0;34m\u001b[0m\u001b[0;34m\u001b[0m\u001b[0m\n",
            "\u001b[0;32m/usr/local/lib/python3.7/dist-packages/pandas/io/parsers.py\u001b[0m in \u001b[0;36m__init__\u001b[0;34m(self, f, engine, **kwds)\u001b[0m\n\u001b[1;32m    946\u001b[0m             \u001b[0mself\u001b[0m\u001b[0;34m.\u001b[0m\u001b[0moptions\u001b[0m\u001b[0;34m[\u001b[0m\u001b[0;34m\"has_index_names\"\u001b[0m\u001b[0;34m]\u001b[0m \u001b[0;34m=\u001b[0m \u001b[0mkwds\u001b[0m\u001b[0;34m[\u001b[0m\u001b[0;34m\"has_index_names\"\u001b[0m\u001b[0;34m]\u001b[0m\u001b[0;34m\u001b[0m\u001b[0;34m\u001b[0m\u001b[0m\n\u001b[1;32m    947\u001b[0m \u001b[0;34m\u001b[0m\u001b[0m\n\u001b[0;32m--> 948\u001b[0;31m         \u001b[0mself\u001b[0m\u001b[0;34m.\u001b[0m\u001b[0m_make_engine\u001b[0m\u001b[0;34m(\u001b[0m\u001b[0mself\u001b[0m\u001b[0;34m.\u001b[0m\u001b[0mengine\u001b[0m\u001b[0;34m)\u001b[0m\u001b[0;34m\u001b[0m\u001b[0;34m\u001b[0m\u001b[0m\n\u001b[0m\u001b[1;32m    949\u001b[0m \u001b[0;34m\u001b[0m\u001b[0m\n\u001b[1;32m    950\u001b[0m     \u001b[0;32mdef\u001b[0m \u001b[0mclose\u001b[0m\u001b[0;34m(\u001b[0m\u001b[0mself\u001b[0m\u001b[0;34m)\u001b[0m\u001b[0;34m:\u001b[0m\u001b[0;34m\u001b[0m\u001b[0;34m\u001b[0m\u001b[0m\n",
            "\u001b[0;32m/usr/local/lib/python3.7/dist-packages/pandas/io/parsers.py\u001b[0m in \u001b[0;36m_make_engine\u001b[0;34m(self, engine)\u001b[0m\n\u001b[1;32m   1178\u001b[0m     \u001b[0;32mdef\u001b[0m \u001b[0m_make_engine\u001b[0m\u001b[0;34m(\u001b[0m\u001b[0mself\u001b[0m\u001b[0;34m,\u001b[0m \u001b[0mengine\u001b[0m\u001b[0;34m=\u001b[0m\u001b[0;34m\"c\"\u001b[0m\u001b[0;34m)\u001b[0m\u001b[0;34m:\u001b[0m\u001b[0;34m\u001b[0m\u001b[0;34m\u001b[0m\u001b[0m\n\u001b[1;32m   1179\u001b[0m         \u001b[0;32mif\u001b[0m \u001b[0mengine\u001b[0m \u001b[0;34m==\u001b[0m \u001b[0;34m\"c\"\u001b[0m\u001b[0;34m:\u001b[0m\u001b[0;34m\u001b[0m\u001b[0;34m\u001b[0m\u001b[0m\n\u001b[0;32m-> 1180\u001b[0;31m             \u001b[0mself\u001b[0m\u001b[0;34m.\u001b[0m\u001b[0m_engine\u001b[0m \u001b[0;34m=\u001b[0m \u001b[0mCParserWrapper\u001b[0m\u001b[0;34m(\u001b[0m\u001b[0mself\u001b[0m\u001b[0;34m.\u001b[0m\u001b[0mf\u001b[0m\u001b[0;34m,\u001b[0m \u001b[0;34m**\u001b[0m\u001b[0mself\u001b[0m\u001b[0;34m.\u001b[0m\u001b[0moptions\u001b[0m\u001b[0;34m)\u001b[0m\u001b[0;34m\u001b[0m\u001b[0;34m\u001b[0m\u001b[0m\n\u001b[0m\u001b[1;32m   1181\u001b[0m         \u001b[0;32melse\u001b[0m\u001b[0;34m:\u001b[0m\u001b[0;34m\u001b[0m\u001b[0;34m\u001b[0m\u001b[0m\n\u001b[1;32m   1182\u001b[0m             \u001b[0;32mif\u001b[0m \u001b[0mengine\u001b[0m \u001b[0;34m==\u001b[0m \u001b[0;34m\"python\"\u001b[0m\u001b[0;34m:\u001b[0m\u001b[0;34m\u001b[0m\u001b[0;34m\u001b[0m\u001b[0m\n",
            "\u001b[0;32m/usr/local/lib/python3.7/dist-packages/pandas/io/parsers.py\u001b[0m in \u001b[0;36m__init__\u001b[0;34m(self, src, **kwds)\u001b[0m\n\u001b[1;32m   2008\u001b[0m         \u001b[0mkwds\u001b[0m\u001b[0;34m[\u001b[0m\u001b[0;34m\"usecols\"\u001b[0m\u001b[0;34m]\u001b[0m \u001b[0;34m=\u001b[0m \u001b[0mself\u001b[0m\u001b[0;34m.\u001b[0m\u001b[0musecols\u001b[0m\u001b[0;34m\u001b[0m\u001b[0;34m\u001b[0m\u001b[0m\n\u001b[1;32m   2009\u001b[0m \u001b[0;34m\u001b[0m\u001b[0m\n\u001b[0;32m-> 2010\u001b[0;31m         \u001b[0mself\u001b[0m\u001b[0;34m.\u001b[0m\u001b[0m_reader\u001b[0m \u001b[0;34m=\u001b[0m \u001b[0mparsers\u001b[0m\u001b[0;34m.\u001b[0m\u001b[0mTextReader\u001b[0m\u001b[0;34m(\u001b[0m\u001b[0msrc\u001b[0m\u001b[0;34m,\u001b[0m \u001b[0;34m**\u001b[0m\u001b[0mkwds\u001b[0m\u001b[0;34m)\u001b[0m\u001b[0;34m\u001b[0m\u001b[0;34m\u001b[0m\u001b[0m\n\u001b[0m\u001b[1;32m   2011\u001b[0m         \u001b[0mself\u001b[0m\u001b[0;34m.\u001b[0m\u001b[0munnamed_cols\u001b[0m \u001b[0;34m=\u001b[0m \u001b[0mself\u001b[0m\u001b[0;34m.\u001b[0m\u001b[0m_reader\u001b[0m\u001b[0;34m.\u001b[0m\u001b[0munnamed_cols\u001b[0m\u001b[0;34m\u001b[0m\u001b[0;34m\u001b[0m\u001b[0m\n\u001b[1;32m   2012\u001b[0m \u001b[0;34m\u001b[0m\u001b[0m\n",
            "\u001b[0;32mpandas/_libs/parsers.pyx\u001b[0m in \u001b[0;36mpandas._libs.parsers.TextReader.__cinit__\u001b[0;34m()\u001b[0m\n",
            "\u001b[0;32mpandas/_libs/parsers.pyx\u001b[0m in \u001b[0;36mpandas._libs.parsers.TextReader._setup_parser_source\u001b[0;34m()\u001b[0m\n",
            "\u001b[0;31mFileNotFoundError\u001b[0m: [Errno 2] No such file or directory: 'data/sampleSubmission.csv'"
          ]
        }
      ]
    },
    {
      "cell_type": "markdown",
      "metadata": {
        "id": "CRQSTfFdnD_f"
      },
      "source": [
        "제출 후 점수를 확인합니다.\n",
        "\n",
        "[제출링크](https://www.kaggle.com/c/bike-sharing-demand/submit)"
      ]
    },
    {
      "cell_type": "markdown",
      "metadata": {
        "id": "bBNRhZVlnD_f"
      },
      "source": [
        "## Y Label 값 스케일 변환"
      ]
    },
    {
      "cell_type": "markdown",
      "metadata": {
        "id": "oNYYI-IZnD_f"
      },
      "source": [
        "정규 분포가 아닌 Y 값을 정규 분포로 만들어 성능 향상을 기대할 수 있습니다."
      ]
    },
    {
      "cell_type": "code",
      "metadata": {
        "id": "uDNws2S3nD_f"
      },
      "source": [
        "print(f'log: {np.log(1)}')\n",
        "print(f'log1p == log(x+1): {np.log1p(0)}')"
      ],
      "execution_count": null,
      "outputs": []
    },
    {
      "cell_type": "markdown",
      "metadata": {
        "id": "H97PSBzUnD_f"
      },
      "source": [
        "log <==> exp 관계"
      ]
    },
    {
      "cell_type": "code",
      "metadata": {
        "id": "zkSFvkOanD_f"
      },
      "source": [
        "a = np.log(10)\n",
        "print(f'log({10:.1f}) = {a:.4f}')\n",
        "reverse_a = np.exp(a)\n",
        "print(f'np.exp({a:.4f}) = {reverse_a:.1f}')"
      ],
      "execution_count": null,
      "outputs": []
    },
    {
      "cell_type": "markdown",
      "metadata": {
        "id": "BgKoWpAJnD_f"
      },
      "source": [
        "log1p <==> expm1 관계"
      ]
    },
    {
      "cell_type": "code",
      "metadata": {
        "id": "MtcXMQiMnD_f"
      },
      "source": [
        "a = np.log1p(10)\n",
        "print(f'log1p({10:.1f}) = {a:.4f}')\n",
        "reverse_a = np.expm1(a)\n",
        "print(f'np.expm1({a:.4f}) = {reverse_a:.1f}')"
      ],
      "execution_count": null,
      "outputs": []
    },
    {
      "cell_type": "code",
      "metadata": {
        "id": "LUSLCETmnD_g"
      },
      "source": [
        "# 분포 확인(histplot)\n",
        "# count 컬럼\n",
        "# train 데이터셋\n",
        "fig, axes = plt.subplots(1, 2)\n",
        "fig.set_size_inches(12, 6)\n",
        "sns.histplot(train['count'], ax=axes[0])\n",
        "sns.histplot(np.log1p(train['count']), ax=axes[1])\n",
        "plt.show()"
      ],
      "execution_count": null,
      "outputs": []
    },
    {
      "cell_type": "code",
      "metadata": {
        "id": "z7w9UwUSnD_g"
      },
      "source": [
        "# 분포 확인(histplot)\n",
        "# casual 컬럼\n",
        "# train 데이터셋\n",
        "fig, axes = plt.subplots(1, 2)\n",
        "fig.set_size_inches(12, 6)\n",
        "sns.histplot(train['casual'], ax=axes[0])\n",
        "sns.histplot(np.log1p(train['casual']), ax=axes[1])\n",
        "plt.show()"
      ],
      "execution_count": null,
      "outputs": []
    },
    {
      "cell_type": "code",
      "metadata": {
        "id": "mqaYGwYqnD_g"
      },
      "source": [
        "# 분포 확인(histplot)\n",
        "# registered 컬럼\n",
        "# train 데이터셋\n",
        "fig, axes = plt.subplots(1, 2)\n",
        "fig.set_size_inches(12, 6)\n",
        "sns.histplot(train['registered'], ax=axes[0])\n",
        "sns.histplot(np.log1p(train['registered']), ax=axes[1])\n",
        "plt.show()"
      ],
      "execution_count": null,
      "outputs": []
    },
    {
      "cell_type": "code",
      "metadata": {
        "id": "NRMrN0cOnD_g"
      },
      "source": [
        "# casual, registered, count에 대하여 log1p 변환을 하고\n",
        "# casual_log, registered_log, count_log 컬럼을 생성한 후 대입합니다.\n",
        "# train 데이터셋 적용\n",
        "train['casual_log'] = np.log1p(train['casual'])\n",
        "train['registered_log'] = np.log1p(train['registered'])\n",
        "train['count_log'] = train['casual_log'] + train['registered_log']"
      ],
      "execution_count": null,
      "outputs": []
    },
    {
      "cell_type": "code",
      "metadata": {
        "id": "O3asI2_enD_g"
      },
      "source": [
        "# x에는 정의한 train[features], \n",
        "# y에는 'count_log', \n",
        "# random_state=123, test_size=0.2\n",
        "x_train, x_test, y_train, y_test = train_test_split(train[features], train['count_log'], test_size=0.2, random_state=123)\n",
        "\n",
        "# 검증코드 (아래 코드는 수정하지 않습니다.)\n",
        "# Cell을 실행시 에러가 발생하면 안됩니다.\n",
        "assert x_train.shape[0] == 8708\n",
        "assert x_test.shape[0] == 2178"
      ],
      "execution_count": null,
      "outputs": []
    },
    {
      "cell_type": "code",
      "metadata": {
        "id": "DuNN1M1enD_g"
      },
      "source": [
        "# RandomForestRegressor로 예측\n",
        "# n_estimators=500, random_state=123\n",
        "model = RandomForestRegressor(n_estimators=500, random_state=123)\n",
        "\n",
        "model.fit(x_train, y_train)"
      ],
      "execution_count": null,
      "outputs": []
    },
    {
      "cell_type": "code",
      "metadata": {
        "id": "EsV3yVpnnD_g"
      },
      "source": [
        "# test 데이터셋에 대한 예측\n",
        "pred2 = rfc.predict(test[features])\n",
        "\n",
        "# 검증코드 (아래 코드는 수정하지 않습니다.)\n",
        "# Cell을 실행시 에러가 발생하면 안됩니다.\n",
        "assert pred.shape[0] == 6493"
      ],
      "execution_count": null,
      "outputs": []
    },
    {
      "cell_type": "code",
      "metadata": {
        "id": "wnKg3okonD_g"
      },
      "source": [
        "# 파일 저장\n",
        "make_submission('V02-random-forest-log-scale', pred2)"
      ],
      "execution_count": null,
      "outputs": []
    },
    {
      "cell_type": "markdown",
      "metadata": {
        "id": "MRBZ9BILnD_h"
      },
      "source": [
        "제출 후 점수를 확인합니다.\n",
        "\n",
        "[제출링크](https://www.kaggle.com/c/bike-sharing-demand/submit)"
      ]
    },
    {
      "cell_type": "markdown",
      "metadata": {
        "id": "GtQXpneDnD_h"
      },
      "source": [
        "## Registered / Casual 나누어 예측 모델 생성\n",
        "\n",
        "`count`는 `registered` + `casual` 입니다.\n",
        "\n",
        "**총 대여량 = 등록된 회원 + 일반 회원 이 빌린 숫자의 합**입니다.\n",
        "\n",
        "registered를 예측하는 모델 / causal을 예측하는 모델 2개를 만들어 각각 예측 후 합산된 결과를 도출합니다.\n",
        "\n",
        "**요구사항**\n",
        "- registered_log를 y값으로 예측하는 모델 생성\n",
        "- casual_log를 y값으로 예측하는 모델 생성\n",
        "- train_test_split(random_state=123, test_size=0.2)\n",
        "- RandomForestRegressor 알고리즘 사용 (random_state=123, n_estimators=500)\n",
        "\n",
        "**변수**\n",
        "- `x_train`, `x_test`: feature 변수\n",
        "- `y_train_reg`, `y_test_reg `: registered Y 변수\n",
        "- `y_train_cas`, `y_test_cas `: casual Y 변수"
      ]
    },
    {
      "cell_type": "code",
      "metadata": {
        "id": "MrpT675tnD_h"
      },
      "source": [
        "# x_train, x_test 변수 생성\n",
        "# y_train_reg, y_test_reg 변수 생성\n",
        "# train_test_split (random_state=123, test_size=0.2)활용\n",
        "x_train, x_test, y_train_reg, y_test_reg = train_test_split(train[features], train['registered_log'], test_size=0.2, random_state=123)"
      ],
      "execution_count": null,
      "outputs": []
    },
    {
      "cell_type": "code",
      "metadata": {
        "id": "YH2CTCB0nD_h"
      },
      "source": [
        "# y_train_cas와 y_test_cas 변수 생성\n",
        "y_train_cas, y_test_cas = train.loc[y_train_reg.index, 'casual_log'], train.loc[y_test_reg.index, 'casual_log']"
      ],
      "execution_count": null,
      "outputs": []
    },
    {
      "cell_type": "code",
      "metadata": {
        "id": "yrQ6q-8unD_h"
      },
      "source": [
        "# 검증코드 (아래 코드는 수정하지 않습니다.)\n",
        "# Cell을 실행시 에러가 발생하면 안됩니다.\n",
        "assert x_train.shape[0] == y_train_reg.shape[0] == y_train_cas.shape[0] == 8708"
      ],
      "execution_count": null,
      "outputs": []
    },
    {
      "cell_type": "markdown",
      "metadata": {
        "id": "zekJE_7CnD_h"
      },
      "source": [
        "## 모델 정의"
      ]
    },
    {
      "cell_type": "code",
      "metadata": {
        "id": "Psxog5RAnD_h"
      },
      "source": [
        "# rfc_reg => RandomForestRegressor 를 생성, n_estimators=500, random_state=123\n",
        "# y값: y_train_reg 변수로 설정\n",
        "rfc_reg = RandomForestRegressor(n_estimators=500, random_state=123)\n",
        "\n",
        "# 훈련(fit)\n",
        "rfc_reg.fit(x_train, y_train_reg)\n",
        "\n",
        "# 예측(predict)\n",
        "y_pred_reg = rfc_reg.predict(x_test)\n",
        "y_pred_reg = np.expm1(y_pred_reg)\n",
        "\n",
        "# 검증 결과(RMSLE)\n",
        "RMSLE(train.loc[y_test.index, 'registered'], y_pred_reg)"
      ],
      "execution_count": null,
      "outputs": []
    },
    {
      "cell_type": "code",
      "metadata": {
        "id": "8y2t1hxDnD_i"
      },
      "source": [
        "# rfc_cas => RandomForestRegressor 를 생성, n_estimators=750, random_state=123\n",
        "# y값: y_train_cas 변수로 설정\n",
        "rfc_cas = RandomForestRegressor(n_estimators=750, random_state=123)\n",
        "\n",
        "# 훈련(fit)\n",
        "rfc_cas.fit(x_train, y_train_cas)\n",
        "\n",
        "# 예측(predict)\n",
        "y_pred_cas = rfc_cas.predict(x_test)\n",
        "y_pred_cas = np.expm1(y_pred_cas)\n",
        "\n",
        "# 검증 결과(RMSLE)\n",
        "RMSLE(train.loc[y_test.index, 'casual'], y_pred_cas)"
      ],
      "execution_count": null,
      "outputs": []
    },
    {
      "cell_type": "code",
      "metadata": {
        "id": "zhuniGu3nD_i"
      },
      "source": [
        "# 결과를 합산 합니다.\n",
        "# rfc_pred = y_pred_reg + y_pred_casual\n",
        "rfc_pred = y_pred_reg + y_pred_cas\n",
        "\n",
        "# 검증 결과(RMSLE)\n",
        "RMSLE(train.loc[y_test.index, 'count'], rfc_pred)"
      ],
      "execution_count": null,
      "outputs": []
    },
    {
      "cell_type": "markdown",
      "metadata": {
        "id": "wiWjxrCRnD_i"
      },
      "source": [
        "## 예측 결과 확인"
      ]
    },
    {
      "cell_type": "code",
      "metadata": {
        "id": "qMZoE8KBnD_i"
      },
      "source": [
        "# 실제 값(count)과 예측 값(pred)를 시각화하여 비교합니다.\n",
        "# 비슷한 분포의 결과가 나오는지 확인합니다.\n",
        "# histplot\n",
        "fig, axes = plt.subplots(1, 2)\n",
        "fig.set_size_inches(12, 6)\n",
        "\n",
        "sns.histplot(train.loc[y_test.index, 'count'], ax=axes[0])\n",
        "sns.histplot(rfc_pred, ax=axes[1])\n",
        "\n",
        "axes[0].set_title('Actual')\n",
        "axes[1].set_title('Prediction')\n",
        "\n",
        "plt.show()"
      ],
      "execution_count": null,
      "outputs": []
    },
    {
      "cell_type": "markdown",
      "metadata": {
        "id": "nyzaGp6JnD_i"
      },
      "source": [
        "## registered / casual 각각 예측"
      ]
    },
    {
      "cell_type": "code",
      "metadata": {
        "id": "dplXJsXAnD_i"
      },
      "source": [
        "# rfc1 모델로 예측\n",
        "pred_reg = rfc_reg.predict(test[features])\n",
        "pred_reg = np.expm1(pred_reg)\n",
        "\n",
        "# rfc2 모델로 예측\n",
        "pred_cas = rfc_cas.predict(test[features])\n",
        "pred_cas = np.expm1(pred_cas)\n",
        "\n",
        "# pred 변수에 결과를 합산합니다.\n",
        "rfc_pred = pred_reg + pred_cas"
      ],
      "execution_count": null,
      "outputs": []
    },
    {
      "cell_type": "code",
      "metadata": {
        "id": "Fzbou-r1nD_i"
      },
      "source": [
        "# test 데이터셋에 대하여 예측한 결과 분포도를 시각화\n",
        "# histplot\n",
        "plt.figure(figsize=(10, 6))\n",
        "sns.histplot(rfc_pred)\n",
        "plt.title('Prediction Distribution')\n",
        "plt.show()"
      ],
      "execution_count": null,
      "outputs": []
    },
    {
      "cell_type": "code",
      "metadata": {
        "id": "JwiCJQgfnD_i"
      },
      "source": [
        "# 파일 저장\n",
        "make_submission('V03-random-forest-2models', rfc_pred)"
      ],
      "execution_count": null,
      "outputs": []
    },
    {
      "cell_type": "markdown",
      "metadata": {
        "id": "E6oy99kOnD_j"
      },
      "source": [
        "제출 후 점수를 확인합니다.\n",
        "\n",
        "[제출링크](https://www.kaggle.com/c/bike-sharing-demand/submit)"
      ]
    },
    {
      "cell_type": "markdown",
      "metadata": {
        "id": "sY9OYa7GnD_j"
      },
      "source": [
        "## 다른 알고리즘 사용"
      ]
    },
    {
      "cell_type": "code",
      "metadata": {
        "id": "LPiC8HVGnD_j"
      },
      "source": [
        "from xgboost import XGBRegressor\n",
        "xgb_reg = XGBRegressor(n_estimators=750, \n",
        "                    learning_rate=0.025, \n",
        "                    max_depth=6, \n",
        "                    subsample=0.8, \n",
        "                    colsample_bytree=0.8, \n",
        "                    random_state=123, \n",
        "                    n_jobs=-1\n",
        "                   )\n",
        "xgb_reg.fit(x_train, y_train_reg)\n",
        "y_pred_reg = xgb_reg.predict(x_test)\n",
        "y_pred_reg = np.expm1(y_pred_reg)\n",
        "RMSLE(train.loc[y_test_reg.index, 'registered'], y_pred_reg)"
      ],
      "execution_count": null,
      "outputs": []
    },
    {
      "cell_type": "code",
      "metadata": {
        "id": "rwQhDiRTnD_j"
      },
      "source": [
        "xgb_cas = XGBRegressor(n_estimators=1000, \n",
        "                    learning_rate=0.025, \n",
        "                    max_depth=6, \n",
        "                    subsample=0.8, \n",
        "                    colsample_bytree=0.8, \n",
        "                    random_state=123, \n",
        "                    n_jobs=-1\n",
        "                   )\n",
        "xgb_cas.fit(x_train, y_train_cas)\n",
        "y_pred_cas = xgb_cas.predict(x_test)\n",
        "y_pred_cas = np.expm1(y_pred_cas)\n",
        "RMSLE(train.loc[y_test_cas.index, 'casual'], y_pred_cas)"
      ],
      "execution_count": null,
      "outputs": []
    },
    {
      "cell_type": "code",
      "metadata": {
        "id": "-0yHmu_XnD_j"
      },
      "source": [
        "y_pred = y_pred_cas + y_pred_reg\n",
        "RMSLE(train.loc[y_test.index, 'count'], y_pred)"
      ],
      "execution_count": null,
      "outputs": []
    },
    {
      "cell_type": "code",
      "metadata": {
        "id": "NBOVp2o6nD_j"
      },
      "source": [
        "pred_reg = xgb_reg.predict(test[features])\n",
        "pred_reg = np.expm1(pred_reg)\n",
        "\n",
        "pred_cas = xgb_cas.predict(test[features])\n",
        "pred_cas = np.expm1(pred_cas)\n",
        "\n",
        "xgb_pred = pred_reg + pred_cas"
      ],
      "execution_count": null,
      "outputs": []
    },
    {
      "cell_type": "code",
      "metadata": {
        "id": "x0oN1O1gnD_j"
      },
      "source": [
        "make_submission('V04-xgb-2models', xgb_pred)"
      ],
      "execution_count": null,
      "outputs": []
    },
    {
      "cell_type": "markdown",
      "metadata": {
        "id": "fOZZlQwHnD_j"
      },
      "source": [
        "제출 후 점수를 확인합니다.\n",
        "\n",
        "[제출링크](https://www.kaggle.com/c/bike-sharing-demand/submit)"
      ]
    },
    {
      "cell_type": "markdown",
      "metadata": {
        "id": "ohd1Sse9nD_j"
      },
      "source": [
        "## Windspeed\n",
        "\n",
        "windspeed 가 0으로 표기 된 값들이 보입니다.\n",
        "\n",
        "잘못 된 데이터일 가능성이 있으므로, 머신러닝 예측 후 windspeed가 0인 값들을 변경하고 다시 학습 데이터로 추가합니다."
      ]
    },
    {
      "cell_type": "code",
      "metadata": {
        "id": "Loo3dkC-nD_k"
      },
      "source": [
        "train['windspeed'].value_counts()"
      ],
      "execution_count": null,
      "outputs": []
    },
    {
      "cell_type": "code",
      "metadata": {
        "id": "_fbrMu6JnD_k"
      },
      "source": [
        "# all_data 변수에 train, test를 합칩니다. 한 번에 전처리 해주기 위함입니다.\n",
        "# sort=False로 섞이지 않도록 합니다.\n",
        "all_data = pd.concat([train, test], sort=False)"
      ],
      "execution_count": null,
      "outputs": []
    },
    {
      "cell_type": "code",
      "metadata": {
        "id": "7Q4X51kDnD_k"
      },
      "source": [
        "# windspeed = 0 인 데이터 개수\n",
        "all_data.loc[all_data['windspeed'] == 0].shape[0]"
      ],
      "execution_count": null,
      "outputs": []
    },
    {
      "cell_type": "code",
      "metadata": {
        "id": "fvFJMBUynD_k"
      },
      "source": [
        "# windspeed = 0 이 아닌 데이터 개수\n",
        "all_data.loc[all_data['windspeed'] != 0].shape[0]"
      ],
      "execution_count": null,
      "outputs": []
    },
    {
      "cell_type": "code",
      "metadata": {
        "id": "_P8mGw2dnD_k"
      },
      "source": [
        "all_data.columns"
      ],
      "execution_count": null,
      "outputs": []
    },
    {
      "cell_type": "code",
      "metadata": {
        "id": "NWKXFf9-nD_k"
      },
      "source": [
        "# windspeed의 예측에 사용할 feature를 정의 합니다.\n",
        "wind_cols = [\n",
        "    'season', \n",
        "    'holiday', \n",
        "    'workingday', \n",
        "    'weather', \n",
        "    'humidity',\n",
        "    'windspeed', \n",
        "    'year', \n",
        "    'month', \n",
        "    'dayofweek', \n",
        "    'quarter', \n",
        "    'hour', \n",
        "    'temp_pca'\n",
        "]"
      ],
      "execution_count": null,
      "outputs": []
    },
    {
      "cell_type": "code",
      "metadata": {
        "id": "deBvhe_xnD_k"
      },
      "source": [
        "# windspeed가 0이 아닌 데이터 (훈련용 데이터)\n",
        "wind_train_x = all_data.loc[all_data['windspeed'] != 0, wind_cols]\n",
        "wind_train_y = all_data.loc[all_data['windspeed'] != 0, 'windspeed']\n",
        "\n",
        "# windspeed가 0인 데이터 (예측용 데이터)\n",
        "wind_test_x = all_data.loc[all_data['windspeed'] == 0, wind_cols]\n",
        "wind_test_y = all_data.loc[all_data['windspeed'] == 0, 'windspeed']"
      ],
      "execution_count": null,
      "outputs": []
    },
    {
      "cell_type": "code",
      "metadata": {
        "id": "0ljusZAPnD_l"
      },
      "source": [
        "# train_test_split\n",
        "# test_size=0.2, random_state=123\n",
        "x_train, x_test, y_train, y_test = train_test_split(wind_train_x, wind_train_y, test_size=0.2, random_state=123)"
      ],
      "execution_count": null,
      "outputs": []
    },
    {
      "cell_type": "code",
      "metadata": {
        "id": "edQzTAICnD_l"
      },
      "source": [
        "# RandomForestRegressor로 예측합니다.\n",
        "# n_estimators=350, max_depth=10 으로 설정합니다.\n",
        "# random_state=123\n",
        "rfc_wind = RandomForestRegressor(n_estimators=500, max_depth=10, random_state=123)\n",
        "rfc_wind.fit(x_train, y_train)\n",
        "pred_wind = rfc_wind.predict(x_test)\n",
        "\n",
        "# mean_squared_error 평가지표를 활용하여 결과를 확인합니다.\n",
        "mean_squared_error(y_test, pred_wind)"
      ],
      "execution_count": null,
      "outputs": []
    },
    {
      "cell_type": "code",
      "metadata": {
        "id": "lET1W7ILnD_l"
      },
      "source": [
        "# windspeed가 0이었던 데이터들에 대하여 예측합니다.\n",
        "pred_test_wind = rfc_wind.predict(wind_test_x)\n",
        "pred_test_wind"
      ],
      "execution_count": null,
      "outputs": []
    },
    {
      "cell_type": "code",
      "metadata": {
        "id": "goTIX3XOnD_l"
      },
      "source": [
        "# 예측한 결과 값을 windspeed가 0 이었던 데이터에 대입합니다.\n",
        "all_data.loc[all_data['windspeed'] == 0, 'windspeed'] = pred_test_wind"
      ],
      "execution_count": null,
      "outputs": []
    },
    {
      "cell_type": "code",
      "metadata": {
        "id": "WQEgc4yynD_l"
      },
      "source": [
        "# 다시 train, test를 분할합니다.\n",
        "train = all_data[:len(train)]\n",
        "test = all_data[len(train):]"
      ],
      "execution_count": null,
      "outputs": []
    },
    {
      "cell_type": "code",
      "metadata": {
        "id": "qnd56NwQnD_l"
      },
      "source": [
        "train.columns"
      ],
      "execution_count": null,
      "outputs": []
    },
    {
      "cell_type": "code",
      "metadata": {
        "id": "jlK4Ko8BnD_l"
      },
      "source": [
        "# feature를 선택합니다.\n",
        "features = [\n",
        "    # 사용하지 않을 feature는 주석 처리합니다.\n",
        "    'season', \n",
        "    'holiday',\n",
        "    'workingday', \n",
        "    'weather', \n",
        "    'humidity', \n",
        "    'windspeed',\n",
        "    'year', \n",
        "    'month', \n",
        "#     'day', \n",
        "    'dayofweek', \n",
        "    'quarter', \n",
        "    'hour', \n",
        "    'temp_pca',\n",
        "]"
      ],
      "execution_count": null,
      "outputs": []
    },
    {
      "cell_type": "code",
      "metadata": {
        "id": "UvsGuKkGnD_l"
      },
      "source": [
        "# x_train, x_test 변수 생성\n",
        "# y_train_reg, y_test_reg 변수 생성\n",
        "# train_test_split (random_state=123, test_size=0.2)활용\n",
        "x_train, x_test, y_train_reg, y_test_reg = train_test_split(train[features], train['registered_log'], test_size=0.2, random_state=123)"
      ],
      "execution_count": null,
      "outputs": []
    },
    {
      "cell_type": "code",
      "metadata": {
        "id": "-A5vzB1JnD_m"
      },
      "source": [
        "# y_train_cas와 y_test_cas 변수 생성\n",
        "y_train_cas, y_test_cas = train.loc[y_train_reg.index, 'casual_log'], train.loc[y_test_reg.index, 'casual_log']"
      ],
      "execution_count": null,
      "outputs": []
    },
    {
      "cell_type": "code",
      "metadata": {
        "id": "6dq6VlqinD_m"
      },
      "source": [
        "# XGBoost를 사용합니다. 이전 단계에서 생성한 모델과 유사합니다.\n",
        "# 다만 feature의 개수가 달라졌으므로, hyper-parameter는 약간 조정합니다.\n",
        "xgb_reg = XGBRegressor(n_estimators=1000, \n",
        "                    learning_rate=0.02, \n",
        "                    max_depth=6, \n",
        "                    subsample=0.7, \n",
        "                    colsample_bytree=0.8, \n",
        "                    random_state=123, \n",
        "                    n_jobs=-1\n",
        "                   )\n",
        "xgb_reg.fit(x_train, y_train_reg)\n",
        "\n",
        "y_pred_reg = xgb_reg.predict(x_test)\n",
        "y_pred_reg = np.expm1(y_pred_reg)\n",
        "RMSLE(train.loc[y_test_reg.index, 'registered'], y_pred_reg)"
      ],
      "execution_count": null,
      "outputs": []
    },
    {
      "cell_type": "code",
      "metadata": {
        "id": "UsZlKDCLnD_m"
      },
      "source": [
        "xgb_cas = XGBRegressor(n_estimators=1000, \n",
        "                    learning_rate=0.025, \n",
        "                    max_depth=6, \n",
        "                    subsample=0.8, \n",
        "                    colsample_bytree=0.8, \n",
        "                    random_state=123, \n",
        "                    n_jobs=-1\n",
        "                   )\n",
        "xgb_cas.fit(x_train, y_train_cas)\n",
        "y_pred_cas = xgb_cas.predict(x_test)\n",
        "y_pred_cas = np.expm1(y_pred_cas)\n",
        "RMSLE(train.loc[y_test_reg.index, 'casual'], y_pred_cas)"
      ],
      "execution_count": null,
      "outputs": []
    },
    {
      "cell_type": "code",
      "metadata": {
        "id": "MHxkIb7OnD_m"
      },
      "source": [
        "# 최종 결과에 대한 RMSLE loss를 산출합니다.\n",
        "y_pred = y_pred_cas + y_pred_reg\n",
        "RMSLE(train.loc[y_test_reg.index, 'count'], y_pred)"
      ],
      "execution_count": null,
      "outputs": []
    },
    {
      "cell_type": "code",
      "metadata": {
        "id": "OcEtu8kanD_m"
      },
      "source": [
        "# 최종 예측\n",
        "pred_reg = xgb_reg.predict(test[features])\n",
        "pred_reg = np.expm1(pred_reg)\n",
        "\n",
        "pred_cas = xgb_cas.predict(test[features])\n",
        "pred_cas = np.expm1(pred_cas)\n",
        "\n",
        "xgb_pred = pred_reg + pred_cas"
      ],
      "execution_count": null,
      "outputs": []
    },
    {
      "cell_type": "code",
      "metadata": {
        "id": "q_Qa0w94nD_m"
      },
      "source": [
        "# 결과를 파일로 저장합니다.\n",
        "make_submission('V05-xgb-wind-2models', xgb_pred)"
      ],
      "execution_count": null,
      "outputs": []
    },
    {
      "cell_type": "markdown",
      "metadata": {
        "id": "0S01dW_7nD_m"
      },
      "source": [
        "제출 후 점수를 확인합니다.\n",
        "\n",
        "[제출링크](https://www.kaggle.com/c/bike-sharing-demand/submit)"
      ]
    },
    {
      "cell_type": "markdown",
      "metadata": {
        "id": "MY7IeTtenD_m"
      },
      "source": [
        "## Feature Scaling"
      ]
    },
    {
      "cell_type": "code",
      "metadata": {
        "id": "Ahzt5LKznD_n"
      },
      "source": [
        "# feature를 선택합니다.\n",
        "features = [\n",
        "    # 사용하지 않을 feature는 주석 처리합니다.\n",
        "    'season', \n",
        "    'holiday',\n",
        "    'workingday', \n",
        "    'weather', \n",
        "    'humidity', \n",
        "    'windspeed',\n",
        "    'year', \n",
        "    'month', \n",
        "#     'day', \n",
        "    'dayofweek', \n",
        "    'quarter', \n",
        "    'hour', \n",
        "    'temp_pca',\n",
        "]"
      ],
      "execution_count": null,
      "outputs": []
    },
    {
      "cell_type": "code",
      "metadata": {
        "id": "RahxTn7nnD_n"
      },
      "source": [
        "train[features]"
      ],
      "execution_count": null,
      "outputs": []
    },
    {
      "cell_type": "code",
      "metadata": {
        "id": "zEOYFWlwnD_n"
      },
      "source": [
        "from sklearn.preprocessing import StandardScaler"
      ],
      "execution_count": null,
      "outputs": []
    },
    {
      "cell_type": "code",
      "metadata": {
        "id": "zWU1YFbynD_n"
      },
      "source": [
        "scaler = StandardScaler()\n",
        "train[['humidity', 'windspeed', 'temp_pca']] = scaler.fit_transform(train[['humidity', 'windspeed', 'temp_pca']])\n",
        "test[['humidity', 'windspeed', 'temp_pca']] = scaler.transform(test[['humidity', 'windspeed', 'temp_pca']])"
      ],
      "execution_count": null,
      "outputs": []
    },
    {
      "cell_type": "code",
      "metadata": {
        "id": "_KhnS6WEnD_n"
      },
      "source": [
        "# x_train, x_test 변수 생성\n",
        "# y_train_reg, y_test_reg 변수 생성\n",
        "# train_test_split (random_state=123, test_size=0.2)활용\n",
        "x_train, x_test, y_train_reg, y_test_reg = train_test_split(train[features], train['registered_log'], test_size=0.2, random_state=123)"
      ],
      "execution_count": null,
      "outputs": []
    },
    {
      "cell_type": "code",
      "metadata": {
        "id": "gZ2oOY8dnD_n"
      },
      "source": [
        "# y_train_cas와 y_test_cas 변수 생성\n",
        "y_train_cas, y_test_cas = train.loc[y_train_reg.index, 'casual_log'], train.loc[y_test_reg.index, 'casual_log']"
      ],
      "execution_count": null,
      "outputs": []
    },
    {
      "cell_type": "code",
      "metadata": {
        "id": "1beoMXo3nD_n"
      },
      "source": [
        "# XGBoost를 사용합니다. 이전 단계에서 생성한 모델과 유사합니다.\n",
        "# 다만 feature의 개수가 달라졌으므로, hyper-parameter는 약간 조정합니다.\n",
        "xgb_reg = XGBRegressor(n_estimators=1000, \n",
        "                    learning_rate=0.02, \n",
        "                    max_depth=6, \n",
        "                    subsample=0.7, \n",
        "                    colsample_bytree=0.8, \n",
        "                    random_state=123, \n",
        "                    n_jobs=-1\n",
        "                   )\n",
        "xgb_reg.fit(x_train, y_train_reg)\n",
        "\n",
        "y_pred_reg = xgb_reg.predict(x_test)\n",
        "y_pred_reg = np.expm1(y_pred_reg)\n",
        "RMSLE(train.loc[y_test_reg.index, 'registered'], y_pred_reg)"
      ],
      "execution_count": null,
      "outputs": []
    },
    {
      "cell_type": "code",
      "metadata": {
        "id": "V-pdGeSCnD_n"
      },
      "source": [
        "xgb_cas = XGBRegressor(n_estimators=1000, \n",
        "                    learning_rate=0.025, \n",
        "                    max_depth=6, \n",
        "                    subsample=0.8, \n",
        "                    colsample_bytree=0.8, \n",
        "                    random_state=123, \n",
        "                    n_jobs=-1\n",
        "                   )\n",
        "xgb_cas.fit(x_train, y_train_cas)\n",
        "y_pred_cas = xgb_cas.predict(x_test)\n",
        "y_pred_cas = np.expm1(y_pred_cas)\n",
        "RMSLE(train.loc[y_test_reg.index, 'casual'], y_pred_cas)"
      ],
      "execution_count": null,
      "outputs": []
    },
    {
      "cell_type": "code",
      "metadata": {
        "id": "_G_lrdxonD_o"
      },
      "source": [
        "# 최종 결과에 대한 RMSLE loss를 산출합니다.\n",
        "y_pred = y_pred_cas + y_pred_reg\n",
        "RMSLE(train.loc[y_test_reg.index, 'count'], y_pred)"
      ],
      "execution_count": null,
      "outputs": []
    },
    {
      "cell_type": "code",
      "metadata": {
        "id": "edvj-PkfnD_o"
      },
      "source": [
        "# 최종 예측\n",
        "pred_reg = xgb_reg.predict(test[features])\n",
        "pred_reg = np.expm1(pred_reg)\n",
        "\n",
        "pred_cas = xgb_cas.predict(test[features])\n",
        "pred_cas = np.expm1(pred_cas)\n",
        "\n",
        "xgb_pred = pred_reg + pred_cas"
      ],
      "execution_count": null,
      "outputs": []
    },
    {
      "cell_type": "code",
      "metadata": {
        "id": "LKndIFotnD_o"
      },
      "source": [
        "# 결과를 파일로 저장합니다.\n",
        "make_submission('V06-xgb-std-scaler', xgb_pred)"
      ],
      "execution_count": null,
      "outputs": []
    },
    {
      "cell_type": "markdown",
      "metadata": {
        "id": "d7qP0z3LnD_o"
      },
      "source": [
        "## Hyperopt"
      ]
    },
    {
      "cell_type": "code",
      "metadata": {
        "id": "GmIR9Zn6nD_o"
      },
      "source": [
        "import hyperopt\n",
        "from hyperopt import fmin, tpe, hp, STATUS_OK, Trials"
      ],
      "execution_count": null,
      "outputs": []
    },
    {
      "cell_type": "code",
      "metadata": {
        "id": "aB_472yfnD_o"
      },
      "source": [
        "reg_candidate = [1e-5, 1e-4, 1e-3, 1e-2, 0.1, 1, 5, 10, 100]\n",
        "\n",
        "space={'max_depth': hp.quniform(\"max_depth\", 5, 15, 1),\n",
        "       'gamma': hp.uniform ('gamma', 0, 1),\n",
        "       'learning_rate': hp.quniform ('learning_rate', 0.01, 0.05, 0.005),\n",
        "       'reg_alpha' : hp.choice('reg_alpha', reg_candidate),\n",
        "       'reg_lambda' : hp.choice('reg_lambda', reg_candidate),\n",
        "       'subsample': hp.quniform('subsample', 0.6, 1, 0.05),\n",
        "       'colsample_bytree' : hp.quniform('colsample_bytree', 0.6, 1, 0.05),\n",
        "       'min_child_weight' : hp.quniform('min_child_weight', 1, 10, 1),\n",
        "       'n_estimators': hp.quniform('n_estimators', 200, 1500, 100)\n",
        "      }"
      ],
      "execution_count": null,
      "outputs": []
    },
    {
      "cell_type": "code",
      "metadata": {
        "id": "CxqV7x2cnD_p"
      },
      "source": [
        "# Regression: \n",
        "def hyperparameter_tuning(space):\n",
        "    model=XGBRegressor(n_estimators =int(space['n_estimators']), \n",
        "                       max_depth = int(space['max_depth']), \n",
        "                       gamma = space['gamma'],\n",
        "                       learning_rate = space['learning_rate'],\n",
        "                       reg_alpha = space['reg_alpha'],\n",
        "                       reg_lambda = space['reg_lambda'],\n",
        "                       subsample = space['subsample'],\n",
        "                       colsample_bytree = space['colsample_bytree'], \n",
        "                       min_child_weight = int(space['min_child_weight']),\n",
        "                       random_state=123, \n",
        "                      )\n",
        "    \n",
        "    evaluation = [(x_train, y_train), (x_test, y_test)]\n",
        "    \n",
        "    model.fit(x_train, y_train,\n",
        "              eval_set=evaluation, \n",
        "              eval_metric=\"rmse\",\n",
        "              early_stopping_rounds=20,\n",
        "              verbose=0)\n",
        "\n",
        "    pred = model.predict(x_test)\n",
        "    pred = np.expm1(pred)\n",
        "    rmsle= RMSLE(np.expm1(y_test), pred)    \n",
        "    #change the metric if you like\n",
        "    return {'loss':rmsle, 'status': STATUS_OK, 'model': model}"
      ],
      "execution_count": null,
      "outputs": []
    },
    {
      "cell_type": "code",
      "metadata": {
        "id": "oz2IeTw7nD_p"
      },
      "source": [
        "x_train, x_test, y_train, y_test = train_test_split(train[features], train['registered_log'], test_size=0.2, random_state=123)"
      ],
      "execution_count": null,
      "outputs": []
    },
    {
      "cell_type": "code",
      "metadata": {
        "id": "d999ttJUnD_p"
      },
      "source": [
        "trials = Trials()\n",
        "best = fmin(fn=hyperparameter_tuning,\n",
        "            space=space,\n",
        "            algo=tpe.suggest,\n",
        "            max_evals=100,\n",
        "            trials=trials)"
      ],
      "execution_count": null,
      "outputs": []
    },
    {
      "cell_type": "code",
      "metadata": {
        "id": "SVJIEFP-nD_p"
      },
      "source": [
        "best['max_depth'] = int(best['max_depth'])\n",
        "best['min_child_weight'] = int(best['min_child_weight'])\n",
        "best['n_estimators'] = int(best['n_estimators'])\n",
        "best['reg_alpha'] = reg_candidate[int(best['reg_alpha'])]\n",
        "best['reg_lambda'] = reg_candidate[int(best['reg_lambda'])]\n",
        "best['random_state'] = 123\n",
        "print (best)"
      ],
      "execution_count": null,
      "outputs": []
    },
    {
      "cell_type": "code",
      "metadata": {
        "id": "TUH_TzkWnD_p"
      },
      "source": [
        "x_train, x_test, y_train_reg, y_test_reg = train_test_split(train[features], train['registered_log'], test_size=0.2, random_state=123)"
      ],
      "execution_count": null,
      "outputs": []
    },
    {
      "cell_type": "code",
      "metadata": {
        "id": "0EEwnx9InD_p"
      },
      "source": [
        "# XGBoost를 사용합니다. 이전 단계에서 생성한 모델과 유사합니다.\n",
        "# 다만 feature의 개수가 달라졌으므로, hyper-parameter는 약간 조정합니다.\n",
        "xgb_reg = XGBRegressor(**best)\n",
        "xgb_reg.fit(x_train, y_train_reg)\n",
        "\n",
        "y_pred_reg = xgb_reg.predict(x_test)\n",
        "y_pred_reg = np.expm1(y_pred_reg)\n",
        "\n",
        "RMSLE(train.loc[y_test_reg.index, 'registered'], y_pred_reg)"
      ],
      "execution_count": null,
      "outputs": []
    },
    {
      "cell_type": "code",
      "metadata": {
        "id": "AGEULllKnD_p"
      },
      "source": [
        "x_train, x_test, y_train, y_test = train_test_split(train[features], train['casual_log'], test_size=0.2, random_state=123)"
      ],
      "execution_count": null,
      "outputs": []
    },
    {
      "cell_type": "code",
      "metadata": {
        "id": "nduiF5ApnD_p"
      },
      "source": [
        "trials = Trials()\n",
        "best = fmin(fn=hyperparameter_tuning,\n",
        "            space=space,\n",
        "            algo=tpe.suggest,\n",
        "            max_evals=100,\n",
        "            trials=trials)"
      ],
      "execution_count": null,
      "outputs": []
    },
    {
      "cell_type": "code",
      "metadata": {
        "id": "6A_j-M6ZnD_q"
      },
      "source": [
        "best['max_depth'] = int(best['max_depth'])\n",
        "best['min_child_weight'] = int(best['min_child_weight'])\n",
        "best['n_estimators'] = int(best['n_estimators'])\n",
        "best['random_state'] = 123\n",
        "print (best)"
      ],
      "execution_count": null,
      "outputs": []
    },
    {
      "cell_type": "code",
      "metadata": {
        "id": "nrg68wtqnD_q"
      },
      "source": [
        "# y_train_cas와 y_test_cas 변수 생성\n",
        "y_train_cas, y_test_cas = train.loc[y_train_reg.index, 'casual_log'], train.loc[y_test_reg.index, 'casual_log']"
      ],
      "execution_count": null,
      "outputs": []
    },
    {
      "cell_type": "code",
      "metadata": {
        "id": "w7i6SZbhnD_q"
      },
      "source": [
        "xgb_cas = XGBRegressor(**best)\n",
        "xgb_cas.fit(x_train, y_train_cas)\n",
        "y_pred_cas = xgb_cas.predict(x_test)\n",
        "y_pred_cas = np.expm1(y_pred_cas)\n",
        "RMSLE(train.loc[y_test_reg.index, 'casual'], y_pred_cas)"
      ],
      "execution_count": null,
      "outputs": []
    },
    {
      "cell_type": "code",
      "metadata": {
        "id": "WLbvK78unD_q"
      },
      "source": [
        "# 최종 결과에 대한 RMSLE loss를 산출합니다.\n",
        "y_pred = y_pred_cas + y_pred_reg\n",
        "RMSLE(train.loc[y_test_reg.index, 'count'], y_pred)"
      ],
      "execution_count": null,
      "outputs": []
    },
    {
      "cell_type": "code",
      "metadata": {
        "id": "f5uEmeeRnD_q"
      },
      "source": [
        "# 최종 예측\n",
        "pred_reg = xgb_reg.predict(test[features])\n",
        "pred_reg = np.expm1(pred_reg)\n",
        "\n",
        "pred_cas = xgb_cas.predict(test[features])\n",
        "pred_cas = np.expm1(pred_cas)\n",
        "\n",
        "xgb_pred = pred_reg + pred_cas"
      ],
      "execution_count": null,
      "outputs": []
    },
    {
      "cell_type": "code",
      "metadata": {
        "id": "Y6LaponhnD_q"
      },
      "source": [
        "# 결과를 파일로 저장합니다.\n",
        "make_submission('V07-hyperopt-tuning', xgb_pred)"
      ],
      "execution_count": null,
      "outputs": []
    },
    {
      "cell_type": "code",
      "metadata": {
        "id": "iWo7bXKGnD_q"
      },
      "source": [
        "sns.histplot(pycaret_pred)"
      ],
      "execution_count": null,
      "outputs": []
    },
    {
      "cell_type": "code",
      "metadata": {
        "id": "IEdWu2pSnD_q"
      },
      "source": [
        ""
      ],
      "execution_count": null,
      "outputs": []
    }
  ]
}